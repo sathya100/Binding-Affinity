{
 "cells": [
  {
   "cell_type": "code",
   "execution_count": 1,
   "metadata": {},
   "outputs": [
    {
     "name": "stderr",
     "output_type": "stream",
     "text": [
      "d:\\py\\Lib\\site-packages\\gensim\\utils.py:1197: UserWarning: detected Windows; aliasing chunkize to chunkize_serial\n",
      "  warnings.warn(\"detected Windows; aliasing chunkize to chunkize_serial\")\n"
     ]
    },
    {
     "ename": "ImportError",
     "evalue": "cannot import name 'Mapping' from 'collections' (d:\\py\\Lib\\collections\\__init__.py)",
     "output_type": "error",
     "traceback": [
      "\u001b[1;31m---------------------------------------------------------------------------\u001b[0m",
      "\u001b[1;31mImportError\u001b[0m                               Traceback (most recent call last)",
      "Cell \u001b[1;32mIn[1], line 27\u001b[0m\n\u001b[0;32m     24\u001b[0m \u001b[38;5;28;01mfrom\u001b[39;00m \u001b[38;5;21;01msklearn\u001b[39;00m\u001b[38;5;21;01m.\u001b[39;00m\u001b[38;5;21;01mmetrics\u001b[39;00m \u001b[38;5;28;01mimport\u001b[39;00m \u001b[38;5;241m*\u001b[39m\n\u001b[0;32m     26\u001b[0m \u001b[38;5;66;03m# for protein embedding\u001b[39;00m\n\u001b[1;32m---> 27\u001b[0m \u001b[38;5;28;01mimport\u001b[39;00m \u001b[38;5;21;01mbiovec\u001b[39;00m\n\u001b[0;32m     29\u001b[0m \u001b[38;5;66;03m# for drugs embedding\u001b[39;00m\n\u001b[0;32m     30\u001b[0m \u001b[38;5;28;01mimport\u001b[39;00m \u001b[38;5;21;01mtensorflow\u001b[39;00m \u001b[38;5;28;01mas\u001b[39;00m \u001b[38;5;21;01mtf\u001b[39;00m\n",
      "File \u001b[1;32md:\\py\\Lib\\site-packages\\biovec\\__init__.py:1\u001b[0m\n\u001b[1;32m----> 1\u001b[0m \u001b[38;5;28;01mfrom\u001b[39;00m \u001b[38;5;21;01mbiovec\u001b[39;00m \u001b[38;5;28;01mimport\u001b[39;00m models\n",
      "File \u001b[1;32md:\\py\\Lib\\site-packages\\biovec\\models\\__init__.py:1\u001b[0m\n\u001b[1;32m----> 1\u001b[0m \u001b[38;5;28;01mfrom\u001b[39;00m \u001b[38;5;21;01mbiovec\u001b[39;00m\u001b[38;5;21;01m.\u001b[39;00m\u001b[38;5;21;01mmodels\u001b[39;00m\u001b[38;5;21;01m.\u001b[39;00m\u001b[38;5;21;01mprot_vec\u001b[39;00m \u001b[38;5;28;01mimport\u001b[39;00m \u001b[38;5;241m*\u001b[39m\n",
      "File \u001b[1;32md:\\py\\Lib\\site-packages\\biovec\\models\\prot_vec.py:1\u001b[0m\n\u001b[1;32m----> 1\u001b[0m \u001b[38;5;28;01mfrom\u001b[39;00m \u001b[38;5;21;01mgensim\u001b[39;00m\u001b[38;5;21;01m.\u001b[39;00m\u001b[38;5;21;01mmodels\u001b[39;00m \u001b[38;5;28;01mimport\u001b[39;00m word2vec\n\u001b[0;32m      2\u001b[0m \u001b[38;5;28;01mfrom\u001b[39;00m \u001b[38;5;21;01mbiovec\u001b[39;00m\u001b[38;5;21;01m.\u001b[39;00m\u001b[38;5;21;01mutils\u001b[39;00m \u001b[38;5;28;01mimport\u001b[39;00m \u001b[38;5;241m*\u001b[39m\n\u001b[0;32m      5\u001b[0m \u001b[38;5;28;01mdef\u001b[39;00m \u001b[38;5;21mload_protvec\u001b[39m(model_fname):\n",
      "File \u001b[1;32md:\\py\\Lib\\site-packages\\gensim\\__init__.py:5\u001b[0m\n\u001b[0;32m      1\u001b[0m \u001b[38;5;124;03m\"\"\"This package contains interfaces and functionality to compute pair-wise document similarities within a corpus\u001b[39;00m\n\u001b[0;32m      2\u001b[0m \u001b[38;5;124;03mof documents.\u001b[39;00m\n\u001b[0;32m      3\u001b[0m \u001b[38;5;124;03m\"\"\"\u001b[39;00m\n\u001b[1;32m----> 5\u001b[0m \u001b[38;5;28;01mfrom\u001b[39;00m \u001b[38;5;21;01mgensim\u001b[39;00m \u001b[38;5;28;01mimport\u001b[39;00m parsing, corpora, matutils, interfaces, models, similarities, summarization, utils  \u001b[38;5;66;03m# noqa:F401\u001b[39;00m\n\u001b[0;32m      6\u001b[0m \u001b[38;5;28;01mimport\u001b[39;00m \u001b[38;5;21;01mlogging\u001b[39;00m\n\u001b[0;32m      8\u001b[0m __version__ \u001b[38;5;241m=\u001b[39m \u001b[38;5;124m'\u001b[39m\u001b[38;5;124m3.4.0\u001b[39m\u001b[38;5;124m'\u001b[39m\n",
      "File \u001b[1;32md:\\py\\Lib\\site-packages\\gensim\\corpora\\__init__.py:12\u001b[0m\n\u001b[0;32m     10\u001b[0m \u001b[38;5;28;01mfrom\u001b[39;00m \u001b[38;5;21;01m.\u001b[39;00m\u001b[38;5;21;01msvmlightcorpus\u001b[39;00m \u001b[38;5;28;01mimport\u001b[39;00m SvmLightCorpus  \u001b[38;5;66;03m# noqa:F401\u001b[39;00m\n\u001b[0;32m     11\u001b[0m \u001b[38;5;28;01mfrom\u001b[39;00m \u001b[38;5;21;01m.\u001b[39;00m\u001b[38;5;21;01mlowcorpus\u001b[39;00m \u001b[38;5;28;01mimport\u001b[39;00m LowCorpus  \u001b[38;5;66;03m# noqa:F401\u001b[39;00m\n\u001b[1;32m---> 12\u001b[0m \u001b[38;5;28;01mfrom\u001b[39;00m \u001b[38;5;21;01m.\u001b[39;00m\u001b[38;5;21;01mdictionary\u001b[39;00m \u001b[38;5;28;01mimport\u001b[39;00m Dictionary  \u001b[38;5;66;03m# noqa:F401\u001b[39;00m\n\u001b[0;32m     13\u001b[0m \u001b[38;5;28;01mfrom\u001b[39;00m \u001b[38;5;21;01m.\u001b[39;00m\u001b[38;5;21;01mhashdictionary\u001b[39;00m \u001b[38;5;28;01mimport\u001b[39;00m HashDictionary  \u001b[38;5;66;03m# noqa:F401\u001b[39;00m\n\u001b[0;32m     14\u001b[0m \u001b[38;5;28;01mfrom\u001b[39;00m \u001b[38;5;21;01m.\u001b[39;00m\u001b[38;5;21;01mwikicorpus\u001b[39;00m \u001b[38;5;28;01mimport\u001b[39;00m WikiCorpus  \u001b[38;5;66;03m# noqa:F401\u001b[39;00m\n",
      "File \u001b[1;32md:\\py\\Lib\\site-packages\\gensim\\corpora\\dictionary.py:12\u001b[0m\n\u001b[0;32m      8\u001b[0m \u001b[38;5;124;03m\"\"\"This module implements the concept of Dictionary -- a mapping between words and their integer ids.\"\"\"\u001b[39;00m\n\u001b[0;32m     10\u001b[0m \u001b[38;5;28;01mfrom\u001b[39;00m \u001b[38;5;21;01m__future__\u001b[39;00m \u001b[38;5;28;01mimport\u001b[39;00m with_statement\n\u001b[1;32m---> 12\u001b[0m \u001b[38;5;28;01mfrom\u001b[39;00m \u001b[38;5;21;01mcollections\u001b[39;00m \u001b[38;5;28;01mimport\u001b[39;00m Mapping, defaultdict\n\u001b[0;32m     13\u001b[0m \u001b[38;5;28;01mimport\u001b[39;00m \u001b[38;5;21;01msys\u001b[39;00m\n\u001b[0;32m     14\u001b[0m \u001b[38;5;28;01mimport\u001b[39;00m \u001b[38;5;21;01mlogging\u001b[39;00m\n",
      "\u001b[1;31mImportError\u001b[0m: cannot import name 'Mapping' from 'collections' (d:\\py\\Lib\\collections\\__init__.py)"
     ]
    }
   ],
   "source": [
    "import pandas as pd\n",
    "from copy import deepcopy\n",
    "import copy\n",
    "import math as math\n",
    "import numpy as np\n",
    "from matplotlib import pyplot as plt\n",
    "import time, os, sys, json,pickle\n",
    "from math import exp\n",
    "import itertools\n",
    "from smart_open import open\n",
    "\n",
    "# Similarity and normalization packages\n",
    "from sklearn.metrics.pairwise import cosine_similarity\n",
    "from sklearn.metrics.pairwise import pairwise_distances\n",
    "from sklearn.preprocessing import MinMaxScaler, minmax_scale\n",
    "import scipy\n",
    "from scipy import stats\n",
    "import scipy.spatial\n",
    "# Machine learninig packages\n",
    "from sklearn import preprocessing\n",
    "from sklearn import linear_model, ensemble, metrics\n",
    "from sklearn.metrics import mean_squared_error, r2_score\n",
    "from lifelines.utils import concordance_index\n",
    "from sklearn.metrics import *\n",
    "\n",
    "# for protein embedding\n",
    "import biovec\n",
    "\n",
    "# for drugs embedding\n",
    "import tensorflow as tf\n",
    "from tensorflow import keras\n",
    "\n",
    "# deepchem library\n",
    "import deepchem as dc\n",
    "from deepchem.feat import Featurizer\n",
    "from deepchem.models.optimizers import ExponentialDecay, Adam\n",
    "from deepchem.metrics import to_one_hot\n",
    "from deepchem.trans import undo_transforms\n",
    "from deepchem.models.graph_models import GraphConvModel, L2Loss,Dense,  Reshape,Dropout \n",
    "import networkx\n",
    "\n",
    "import xgboost as xgb\n",
    "\n",
    "# Import my files\n",
    "from training_functions import *\n",
    "from pathScores_functions import *\n",
    "from evaluation import *"
   ]
  },
  {
   "cell_type": "code",
   "execution_count": 240,
   "metadata": {},
   "outputs": [
    {
     "data": {
      "text/html": [
       "<div>\n",
       "<style scoped>\n",
       "    .dataframe tbody tr th:only-of-type {\n",
       "        vertical-align: middle;\n",
       "    }\n",
       "\n",
       "    .dataframe tbody tr th {\n",
       "        vertical-align: top;\n",
       "    }\n",
       "\n",
       "    .dataframe thead th {\n",
       "        text-align: right;\n",
       "    }\n",
       "</style>\n",
       "<table border=\"1\" class=\"dataframe\">\n",
       "  <thead>\n",
       "    <tr style=\"text-align: right;\">\n",
       "      <th></th>\n",
       "      <th>LigandID</th>\n",
       "      <th>pdbID</th>\n",
       "      <th>Affinity</th>\n",
       "      <th>Year</th>\n",
       "      <th>SMILES</th>\n",
       "      <th>Seq</th>\n",
       "    </tr>\n",
       "  </thead>\n",
       "  <tbody>\n",
       "    <tr>\n",
       "      <th>0</th>\n",
       "      <td>MLY</td>\n",
       "      <td>2r58</td>\n",
       "      <td>2.000000</td>\n",
       "      <td>2007</td>\n",
       "      <td>C[NH+](C)CCCCC([NH3+])C(=O)O</td>\n",
       "      <td>AFDWDAYLEETGSEAAPAKCFKQAQNPPNNDFKIGMKLEALDPRNV...</td>\n",
       "    </tr>\n",
       "    <tr>\n",
       "      <th>1</th>\n",
       "      <td>PRP</td>\n",
       "      <td>3c2f</td>\n",
       "      <td>1.995679</td>\n",
       "      <td>2008</td>\n",
       "      <td>O=P(O)(O)OCC1OC(OP(=O)(O)OP(=O)(O)O)C(O)C1O</td>\n",
       "      <td>PVYEHLLPVNGAWRQDVTNWLSEDVPSFDFGGYVVGSDLKEANLYC...</td>\n",
       "    </tr>\n",
       "    <tr>\n",
       "      <th>2</th>\n",
       "      <td>3HP</td>\n",
       "      <td>3pce</td>\n",
       "      <td>2.000000</td>\n",
       "      <td>1998</td>\n",
       "      <td>O=C(O)Cc1cccc(O)c1</td>\n",
       "      <td>PIELLPETPSQTAGPYVHIGLALEAAGNPTRDQEIWNRLAKPDAPG...</td>\n",
       "    </tr>\n",
       "    <tr>\n",
       "      <th>3</th>\n",
       "      <td>TDR</td>\n",
       "      <td>4qsu</td>\n",
       "      <td>2.000000</td>\n",
       "      <td>2014</td>\n",
       "      <td>CC1C=NC(=O)NC1=O</td>\n",
       "      <td>SMQEEDTFRELRIFLRNVTHRLAIDKRFRVFTKPVDPDEVPDYVTV...</td>\n",
       "    </tr>\n",
       "  </tbody>\n",
       "</table>\n",
       "</div>"
      ],
      "text/plain": [
       "  LigandID pdbID  Affinity  Year                                       SMILES  \\\n",
       "0      MLY  2r58  2.000000  2007                 C[NH+](C)CCCCC([NH3+])C(=O)O   \n",
       "1      PRP  3c2f  1.995679  2008  O=P(O)(O)OCC1OC(OP(=O)(O)OP(=O)(O)O)C(O)C1O   \n",
       "2      3HP  3pce  2.000000  1998                           O=C(O)Cc1cccc(O)c1   \n",
       "3      TDR  4qsu  2.000000  2014                             CC1C=NC(=O)NC1=O   \n",
       "\n",
       "                                                 Seq  \n",
       "0  AFDWDAYLEETGSEAAPAKCFKQAQNPPNNDFKIGMKLEALDPRNV...  \n",
       "1  PVYEHLLPVNGAWRQDVTNWLSEDVPSFDFGGYVVGSDLKEANLYC...  \n",
       "2  PIELLPETPSQTAGPYVHIGLALEAAGNPTRDQEIWNRLAKPDAPG...  \n",
       "3  SMQEEDTFRELRIFLRNVTHRLAIDKRFRVFTKPVDPDEVPDYVTV...  "
      ]
     },
     "execution_count": 240,
     "metadata": {},
     "output_type": "execute_result"
    }
   ],
   "source": [
    "# Load the dataset\n",
    "all_DTA_info = pd.read_csv('PDBBind_Refined/All_PDBbind_info.csv')\n",
    "all_DTA_info.head(4)"
   ]
  },
  {
   "cell_type": "markdown",
   "metadata": {},
   "source": [
    "# Ligand-Protein complexes Preprocessig"
   ]
  },
  {
   "cell_type": "code",
   "execution_count": 351,
   "metadata": {},
   "outputs": [
    {
     "data": {
      "text/plain": [
       "(2326, 3047)"
      ]
     },
     "execution_count": 351,
     "metadata": {},
     "output_type": "execute_result"
    }
   ],
   "source": [
    "# Ligand Preproess\n",
    "DP_aff = all_DTA_info[[\"LigandID\", \"pdbID\",\"Affinity\"]]\n",
    "print(DP_aff.shape)\n",
    "edgeList = DP_aff.values.tolist()\n",
    "edgeList = np.array(edgeList)\n",
    "\n",
    "ligand_no = DP_aff['LigandID'].nunique()\n",
    "protein_no = DP_aff['pdbID'].nunique()\n",
    "\n",
    "allD = DP_aff['LigandID'].unique()\n",
    "allP = DP_aff['pdbID'].unique()\n",
    "\n",
    "# create indexing-dictionaries for drugs (Ligands) and for targets (Proteins)\n",
    "DrID = dict([(d, i) for i, d in enumerate(allD)])\n",
    "PrID = dict([(t, i) for i, t in enumerate(allP)])\n",
    "\n",
    "ligand_no, protein_no"
   ]
  },
  {
   "cell_type": "code",
   "execution_count": 337,
   "metadata": {},
   "outputs": [
    {
     "name": "stdout",
     "output_type": "stream",
     "text": [
      "(3047, 5)\n",
      "(2326, 5)\n"
     ]
    },
    {
     "data": {
      "text/html": [
       "<div>\n",
       "<style scoped>\n",
       "    .dataframe tbody tr th:only-of-type {\n",
       "        vertical-align: middle;\n",
       "    }\n",
       "\n",
       "    .dataframe tbody tr th {\n",
       "        vertical-align: top;\n",
       "    }\n",
       "\n",
       "    .dataframe thead th {\n",
       "        text-align: right;\n",
       "    }\n",
       "</style>\n",
       "<table border=\"1\" class=\"dataframe\">\n",
       "  <thead>\n",
       "    <tr style=\"text-align: right;\">\n",
       "      <th></th>\n",
       "      <th>pdbID</th>\n",
       "      <th>LigandID</th>\n",
       "      <th>Affinity</th>\n",
       "      <th>SMILES</th>\n",
       "      <th>Seq</th>\n",
       "    </tr>\n",
       "  </thead>\n",
       "  <tbody>\n",
       "    <tr>\n",
       "      <th>0</th>\n",
       "      <td>2r58</td>\n",
       "      <td>MLY</td>\n",
       "      <td>2.000000</td>\n",
       "      <td>C[NH+](C)CCCCC([NH3+])C(=O)O</td>\n",
       "      <td>AFDWDAYLEETGSEAAPAKCFKQAQNPPNNDFKIGMKLEALDPRNV...</td>\n",
       "    </tr>\n",
       "    <tr>\n",
       "      <th>1</th>\n",
       "      <td>3c2f</td>\n",
       "      <td>PRP</td>\n",
       "      <td>1.995679</td>\n",
       "      <td>O=P(O)(O)OCC1OC(OP(=O)(O)OP(=O)(O)O)C(O)C1O</td>\n",
       "      <td>PVYEHLLPVNGAWRQDVTNWLSEDVPSFDFGGYVVGSDLKEANLYC...</td>\n",
       "    </tr>\n",
       "    <tr>\n",
       "      <th>2</th>\n",
       "      <td>3pce</td>\n",
       "      <td>3HP</td>\n",
       "      <td>2.000000</td>\n",
       "      <td>O=C(O)Cc1cccc(O)c1</td>\n",
       "      <td>PIELLPETPSQTAGPYVHIGLALEAAGNPTRDQEIWNRLAKPDAPG...</td>\n",
       "    </tr>\n",
       "  </tbody>\n",
       "</table>\n",
       "</div>"
      ],
      "text/plain": [
       "  pdbID LigandID  Affinity                                       SMILES  \\\n",
       "0  2r58      MLY  2.000000                 C[NH+](C)CCCCC([NH3+])C(=O)O   \n",
       "1  3c2f      PRP  1.995679  O=P(O)(O)OCC1OC(OP(=O)(O)OP(=O)(O)O)C(O)C1O   \n",
       "2  3pce      3HP  2.000000                           O=C(O)Cc1cccc(O)c1   \n",
       "\n",
       "                                                 Seq  \n",
       "0  AFDWDAYLEETGSEAAPAKCFKQAQNPPNNDFKIGMKLEALDPRNV...  \n",
       "1  PVYEHLLPVNGAWRQDVTNWLSEDVPSFDFGGYVVGSDLKEANLYC...  \n",
       "2  PIELLPETPSQTAGPYVHIGLALEAAGNPTRDQEIWNRLAKPDAPG...  "
      ]
     },
     "execution_count": 337,
     "metadata": {},
     "output_type": "execute_result"
    }
   ],
   "source": [
    "ligand_un_df = all_DTA_info.copy()\n",
    "print(ligand_un_df.shape)\n",
    "ligand_un_df = ligand_un_df.drop_duplicates(subset=['LigandID'])\n",
    "print(ligand_un_df.shape)\n",
    "ligand_un_df.head(3)"
   ]
  },
  {
   "cell_type": "code",
   "execution_count": 900,
   "metadata": {},
   "outputs": [
    {
     "data": {
      "text/plain": [
       "array([[ 2.        ,  0.        ,  0.        , ...,  0.        ,\n",
       "         0.        ,  0.        ],\n",
       "       [ 0.        ,  1.99567863,  0.        , ...,  0.        ,\n",
       "         0.        ,  0.        ],\n",
       "       [ 0.        ,  0.        ,  2.        , ...,  0.        ,\n",
       "         0.        ,  0.        ],\n",
       "       ...,\n",
       "       [ 0.        ,  0.        ,  0.        , ..., 11.82390874,\n",
       "         0.        ,  0.        ],\n",
       "       [ 0.        ,  0.        ,  0.        , ...,  0.        ,\n",
       "        11.85387196,  0.        ],\n",
       "       [ 0.        ,  0.        ,  0.        , ...,  0.        ,\n",
       "         0.        , 11.92081875]])"
      ]
     },
     "execution_count": 900,
     "metadata": {},
     "output_type": "execute_result"
    }
   ],
   "source": [
    "DP_Mat,label_row_inds,label_col_inds = edgelist_to_adjMat(edgeList,DrID,PrID)\n",
    "DP_Mat.shape, len(label_row_inds),len(label_col_inds)\n",
    "DP_Mat"
   ]
  },
  {
   "cell_type": "code",
   "execution_count": 776,
   "metadata": {},
   "outputs": [
    {
     "data": {
      "text/plain": [
       "array([[1.35335283e-01, 1.00000000e+00, 1.00000000e+00, ...,\n",
       "        1.00000000e+00, 1.00000000e+00, 1.00000000e+00],\n",
       "       [1.00000000e+00, 1.35921383e-01, 1.00000000e+00, ...,\n",
       "        1.00000000e+00, 1.00000000e+00, 1.00000000e+00],\n",
       "       [1.00000000e+00, 1.00000000e+00, 1.35335283e-01, ...,\n",
       "        1.00000000e+00, 1.00000000e+00, 1.00000000e+00],\n",
       "       ...,\n",
       "       [1.00000000e+00, 1.00000000e+00, 1.00000000e+00, ...,\n",
       "        7.32726130e-06, 1.00000000e+00, 1.00000000e+00],\n",
       "       [1.00000000e+00, 1.00000000e+00, 1.00000000e+00, ...,\n",
       "        1.00000000e+00, 7.11096951e-06, 1.00000000e+00],\n",
       "       [1.00000000e+00, 1.00000000e+00, 1.00000000e+00, ...,\n",
       "        1.00000000e+00, 1.00000000e+00, 6.65049843e-06]])"
      ]
     },
     "execution_count": 776,
     "metadata": {},
     "output_type": "execute_result"
    }
   ],
   "source": [
    "# New affinity score for graph G..\n",
    "aff_exp = np.exp((-1)*DP_Mat)\n",
    "aff_exp"
   ]
  },
  {
   "cell_type": "markdown",
   "metadata": {},
   "source": [
    "# Learn Embeddings for ligand and proteins\n",
    "## 1) Learn amino-acid sequnce embeddings using ProtVec trined model"
   ]
  },
  {
   "cell_type": "code",
   "execution_count": 5,
   "metadata": {},
   "outputs": [
    {
     "name": "stderr",
     "output_type": "stream",
     "text": [
      "/home/thafarma/anaconda3/lib/python3.8/site-packages/smart_open/smart_open_lib.py:252: UserWarning: This function is deprecated, use smart_open.open instead. See the migration notes for details: https://github.com/RaRe-Technologies/smart_open/blob/master/README.rst#migrating-to-the-new-open-function\n",
      "  warnings.warn(\n"
     ]
    }
   ],
   "source": [
    "# import trained model\n",
    "pv = biovec.models.load_protvec('swissprot-reviewed-protvec.model')\n",
    "\n",
    "Embed = {}\n",
    "seqEmbed = []\n",
    "sumEmbed = []\n",
    "avgEmbed = []\n",
    "allEmbed = []\n",
    "\n",
    "for i in range(all_DT_df.shape[0]):\n",
    "    embedding = pv.to_vecs(all_DT_df['Seq'][i])\n",
    "    # Dictionary to get embedding by target ID\n",
    "    Embed[all_DT_df['pdbID'][i]] = embedding\n",
    "    \n",
    "    allem = list(itertools.chain(embedding[0],embedding[1],embedding[2]))\n",
    "    #concatenate 3d\n",
    "    allEmbed.append(allem)\n",
    "    #list of embedding 3D\n",
    "    seqEmbed.append(embedding)\n",
    "    \n",
    "    # 1D embedding by taking sum of 3 ists\n",
    "    sumE = embedding[0]+embedding[1]+embedding[2]\n",
    "    sumEmbed.append(sumE)\n",
    "    \n",
    "    #1D embedding by taking the average\n",
    "    avgEmbed.append(sumE/3)\n",
    "    \n",
    "avgEmbed = np.array(avgEmbed)\n",
    "sumEmbed = np.array(sumEmbed)"
   ]
  },
  {
   "cell_type": "markdown",
   "metadata": {},
   "source": [
    "## 2) Learn SMILES embeddings using seq2seq fingerprint\n",
    "### a) Prepare SMILES, tokens, and read more smiles data to train the model"
   ]
  },
  {
   "cell_type": "code",
   "execution_count": 7,
   "metadata": {},
   "outputs": [],
   "source": [
    "## Read \n",
    "tasks, datasets, transformers = dc.molnet.load_muv()\n",
    "train_dataset, valid_dataset, test_dataset = datasets\n",
    "train_smiles = train_dataset.ids\n",
    "valid_smiles = valid_dataset.ids\n",
    "train_smiles_list = list(train_smiles)\n",
    "valid_smiles_list = list(valid_smiles)"
   ]
  },
  {
   "cell_type": "code",
   "execution_count": 8,
   "metadata": {},
   "outputs": [],
   "source": [
    "###.. GET DAVIS SMILES\n",
    "# reading the smiles from the file  (Drugs SMILES)\n",
    "with open('Input/Davis/ligands_can.txt') as f: \n",
    "    dr_data = f.read() \n",
    "# reconstructing the data as a dictionary \n",
    "dr_dv_dic = json.loads(dr_data) \n",
    "dr_dv_keys = list(dr_dv_dic.keys())\n",
    "dr_dv_Sm =  list(dr_dv_dic.values())\n",
    "\n",
    "#---------------------------------------------\n",
    "###.. GET KIBA SMILES\n",
    "# Kiba SMILES\n",
    "with open('Input/Kiba/ligands_can.txt') as f: \n",
    "    dr_kiba = f.read() \n",
    "# reconstructing the data as a dictionary \n",
    "dr_kiba_dic = json.loads(dr_kiba) \n",
    "#print(dr_sm_dic)\n",
    "dr_keys_kiba = list(dr_kiba_dic.keys())\n",
    "dr_kiba_Sm =  list(dr_kiba_dic.values())\n"
   ]
  },
  {
   "cell_type": "code",
   "execution_count": 9,
   "metadata": {},
   "outputs": [
    {
     "data": {
      "text/plain": [
       "(3047, 89004)"
      ]
     },
     "execution_count": 9,
     "metadata": {},
     "output_type": "execute_result"
    }
   ],
   "source": [
    "dr_pdb_Sm = list(all_DT_df['SMILES'])\n",
    "allSM = dr_dv_Sm + dr_kiba_Sm + train_smiles_list + valid_smiles_list + dr_pdb_Sm\n",
    "all_smiles = np.array(allSM)\n",
    "len(dr_pdb_Sm), len(allSM)"
   ]
  },
  {
   "cell_type": "code",
   "execution_count": 10,
   "metadata": {},
   "outputs": [
    {
     "data": {
      "text/plain": [
       "35"
      ]
     },
     "execution_count": 10,
     "metadata": {},
     "output_type": "execute_result"
    }
   ],
   "source": [
    "allTokens = set()\n",
    "for s in all_smiles:\n",
    "    allTokens = allTokens.union(set(c for c in s))\n",
    "allTokens = sorted(list(allTokens))\n",
    "\n",
    "max_length = max(len(s) for s in all_smiles)\n",
    "len(allTokens)"
   ]
  },
  {
   "cell_type": "markdown",
   "metadata": {},
   "source": [
    "### b). Creat seq2seq model to learn embeddings for all ligands"
   ]
  },
  {
   "cell_type": "code",
   "execution_count": 12,
   "metadata": {},
   "outputs": [],
   "source": [
    "## Train Seq2Seq model\n",
    "batch_size = 100\n",
    "model = dc.models.SeqToSeq(allTokens,\n",
    "                           allTokens,\n",
    "                           max_length,\n",
    "                           encoder_layers=2,\n",
    "                           decoder_layers=2,\n",
    "                           variational=True,\n",
    "                           embedding_dimension=128,\n",
    "                           model_dir='fingerprint')\n",
    "\n",
    "\n",
    "\n",
    "batches_per_epoch = len(all_smiles)/batch_size\n",
    "model.optimizer=Adam(learning_rate=ExponentialDecay(0.005, 0.9, batches_per_epoch))"
   ]
  },
  {
   "cell_type": "code",
   "execution_count": 13,
   "metadata": {},
   "outputs": [],
   "source": [
    "def generate_sequences(epochs):\n",
    "    for i in range(epochs):\n",
    "        for s in all_smiles:\n",
    "            yield (s, s)\n",
    "model.fit_sequences(generate_sequences(40))"
   ]
  },
  {
   "cell_type": "code",
   "execution_count": 777,
   "metadata": {},
   "outputs": [
    {
     "data": {
      "text/plain": [
       "(2326,)"
      ]
     },
     "execution_count": 777,
     "metadata": {},
     "output_type": "execute_result"
    }
   ],
   "source": [
    "pdb_sm_unique = np.array(list(ligand_un_df['SMILES']))\n",
    "pdb_sm_unique.shape"
   ]
  },
  {
   "cell_type": "code",
   "execution_count": 906,
   "metadata": {},
   "outputs": [
    {
     "data": {
      "text/plain": [
       "((3047, 128), (2326, 128), (3047, 100))"
      ]
     },
     "execution_count": 906,
     "metadata": {},
     "output_type": "execute_result"
    }
   ],
   "source": [
    "# Generate embeddings\n",
    "pdb_sm_EMBED = model.predict_embeddings(dr_pdb_Sm)\n",
    "pdb_sm_EMBED=np.array(pdb_sm_EMBED)\n",
    "\n",
    "pdb_sm_EMBED_u = model.predict_embeddings(pdb_sm_unique)\n",
    "pdb_sm_EMBED_u =np.array(pdb_sm_EMBED_u)\n",
    "\n",
    "pdb_sm_EMBED.shape, pdb_sm_EMBED_u.shape, sumEmbed.shape "
   ]
  },
  {
   "cell_type": "code",
   "execution_count": 919,
   "metadata": {},
   "outputs": [],
   "source": [
    "file = \"trained_seq2seq_SMILES_model.pickle.dat\"\n",
    "# save model to file\n",
    "# pickle.dump(model, open(file, 'wb'))"
   ]
  },
  {
   "cell_type": "code",
   "execution_count": 907,
   "metadata": {},
   "outputs": [],
   "source": [
    "# Write Sequence Embeddings and SMILES Embeddings into file\n",
    "################################################################\n",
    "Pr_EMBED_df = pd.DataFrame.from_dict(sumEmbed)\n",
    "Pr_EMBED_df.to_csv('PDBBind_Refined/EMBED/Pr_ProtVec_EMBED.txt',sep=' ',index=None,header=None)\n",
    "\n",
    "pdb_EMBED_df = pd.DataFrame.from_dict(pdb_sm_EMBED)\n",
    "pdb_EMBED_df.to_csv('PDBBind_Refined/EMBED/Dr_seq2seq_EMBED.txt',sep=' ',index=None,header=None)\n",
    "\n",
    "pdb_EMBED_df_u = pd.DataFrame.from_dict(pdb_sm_EMBED_u)\n",
    "pdb_EMBED_df_u.to_csv('PDBBind_Refined/EMBED/Dr_seq2seq_EMBED_u.txt',sep=' ',index=None,header=None)"
   ]
  },
  {
   "cell_type": "markdown",
   "metadata": {},
   "source": [
    "## Prepare the data to construct the graph G(V,E)"
   ]
  },
  {
   "cell_type": "code",
   "execution_count": 372,
   "metadata": {},
   "outputs": [],
   "source": [
    "# #Clculate cosine similarity for ach pair of proteins and each pair of drugs (ligands)\n",
    "\n",
    "DD_Sim_sm = Cosine_Similarity(pdb_EMBED_df)\n",
    "PP_Sim_sq = Cosine_Similarity(sumEmbed)\n",
    "\n",
    "# #normalize simiarities to be in positive range [0,1]\n",
    "DD_Sim_sm = normalizedMatrix(DD_Sim_sm)\n",
    "PP_Sim_sq = normalizedMatrix(PP_Sim_sq)"
   ]
  },
  {
   "cell_type": "code",
   "execution_count": 783,
   "metadata": {},
   "outputs": [
    {
     "data": {
      "text/plain": [
       "((2326, 2326), (3047, 3047))"
      ]
     },
     "execution_count": 783,
     "metadata": {},
     "output_type": "execute_result"
    }
   ],
   "source": [
    "# Pr_SimM = keep_sim_threshold(Pr_SimM ,0.04)\n",
    "# Dr_SimM = keep_sim_threshold(Dr_SimM ,0.35)\n",
    "DD_Sim_sm.shape, PP_Sim_sq.shape "
   ]
  },
  {
   "cell_type": "code",
   "execution_count": 3,
   "metadata": {},
   "outputs": [
    {
     "ename": "NameError",
     "evalue": "name 'all_DTA_info' is not defined",
     "output_type": "error",
     "traceback": [
      "\u001b[1;31m---------------------------------------------------------------------------\u001b[0m",
      "\u001b[1;31mNameError\u001b[0m                                 Traceback (most recent call last)",
      "Cell \u001b[1;32mIn[3], line 1\u001b[0m\n\u001b[1;32m----> 1\u001b[0m XPair \u001b[38;5;241m=\u001b[39m \u001b[43mall_DTA_info\u001b[49m[[\u001b[38;5;124m\"\u001b[39m\u001b[38;5;124mLigandID\u001b[39m\u001b[38;5;124m\"\u001b[39m, \u001b[38;5;124m\"\u001b[39m\u001b[38;5;124mpdbID\u001b[39m\u001b[38;5;124m\"\u001b[39m]]\n\u001b[0;32m      2\u001b[0m XPair \u001b[38;5;241m=\u001b[39m XPair\u001b[38;5;241m.\u001b[39mto_numpy()\n\u001b[0;32m      4\u001b[0m Y \u001b[38;5;241m=\u001b[39m np\u001b[38;5;241m.\u001b[39marray(all_DTA_info[\u001b[38;5;124m'\u001b[39m\u001b[38;5;124mAffinity\u001b[39m\u001b[38;5;124m'\u001b[39m])\n",
      "\u001b[1;31mNameError\u001b[0m: name 'all_DTA_info' is not defined"
     ]
    }
   ],
   "source": [
    "XPair = all_DTA_info[[\"LigandID\", \"pdbID\"]]\n",
    "XPair = XPair.to_numpy()\n",
    "\n",
    "Y = np.array(all_DTA_info['Affinity'])\n",
    "\n",
    "XPair.shape, Y.shape"
   ]
  },
  {
   "cell_type": "markdown",
   "metadata": {},
   "source": [
    "### *Create the training, validation and test sets (setting-2)\n",
    "#### (time-base split using the publication years)."
   ]
  },
  {
   "cell_type": "code",
   "execution_count": 455,
   "metadata": {},
   "outputs": [
    {
     "data": {
      "text/html": [
       "<div>\n",
       "<style scoped>\n",
       "    .dataframe tbody tr th:only-of-type {\n",
       "        vertical-align: middle;\n",
       "    }\n",
       "\n",
       "    .dataframe tbody tr th {\n",
       "        vertical-align: top;\n",
       "    }\n",
       "\n",
       "    .dataframe thead th {\n",
       "        text-align: right;\n",
       "    }\n",
       "</style>\n",
       "<table border=\"1\" class=\"dataframe\">\n",
       "  <thead>\n",
       "    <tr style=\"text-align: right;\">\n",
       "      <th></th>\n",
       "      <th>LigandID</th>\n",
       "      <th>pdbID</th>\n",
       "      <th>Affinity</th>\n",
       "      <th>Year</th>\n",
       "      <th>SMILES</th>\n",
       "      <th>Seq</th>\n",
       "    </tr>\n",
       "  </thead>\n",
       "  <tbody>\n",
       "    <tr>\n",
       "      <th>0</th>\n",
       "      <td>MLY</td>\n",
       "      <td>2r58</td>\n",
       "      <td>2.000000</td>\n",
       "      <td>2007</td>\n",
       "      <td>C[NH+](C)CCCCC([NH3+])C(=O)O</td>\n",
       "      <td>AFDWDAYLEETGSEAAPAKCFKQAQNPPNNDFKIGMKLEALDPRNV...</td>\n",
       "    </tr>\n",
       "    <tr>\n",
       "      <th>1</th>\n",
       "      <td>PRP</td>\n",
       "      <td>3c2f</td>\n",
       "      <td>1.995679</td>\n",
       "      <td>2008</td>\n",
       "      <td>O=P(O)(O)OCC1OC(OP(=O)(O)OP(=O)(O)O)C(O)C1O</td>\n",
       "      <td>PVYEHLLPVNGAWRQDVTNWLSEDVPSFDFGGYVVGSDLKEANLYC...</td>\n",
       "    </tr>\n",
       "    <tr>\n",
       "      <th>2</th>\n",
       "      <td>3HP</td>\n",
       "      <td>3pce</td>\n",
       "      <td>2.000000</td>\n",
       "      <td>1998</td>\n",
       "      <td>O=C(O)Cc1cccc(O)c1</td>\n",
       "      <td>PIELLPETPSQTAGPYVHIGLALEAAGNPTRDQEIWNRLAKPDAPG...</td>\n",
       "    </tr>\n",
       "  </tbody>\n",
       "</table>\n",
       "</div>"
      ],
      "text/plain": [
       "  LigandID pdbID  Affinity  Year                                       SMILES  \\\n",
       "0      MLY  2r58  2.000000  2007                 C[NH+](C)CCCCC([NH3+])C(=O)O   \n",
       "1      PRP  3c2f  1.995679  2008  O=P(O)(O)OCC1OC(OP(=O)(O)OP(=O)(O)O)C(O)C1O   \n",
       "2      3HP  3pce  2.000000  1998                           O=C(O)Cc1cccc(O)c1   \n",
       "\n",
       "                                                 Seq  \n",
       "0  AFDWDAYLEETGSEAAPAKCFKQAQNPPNNDFKIGMKLEALDPRNV...  \n",
       "1  PVYEHLLPVNGAWRQDVTNWLSEDVPSFDFGGYVVGSDLKEANLYC...  \n",
       "2  PIELLPETPSQTAGPYVHIGLALEAAGNPTRDQEIWNRLAKPDAPG...  "
      ]
     },
     "execution_count": 455,
     "metadata": {},
     "output_type": "execute_result"
    }
   ],
   "source": [
    "all_DTA_info.head(3)"
   ]
  },
  {
   "cell_type": "code",
   "execution_count": 136,
   "metadata": {},
   "outputs": [],
   "source": [
    "## Setting --2\n",
    "\n",
    "test_index = []\n",
    "train_index = []\n",
    "valid_index = []\n",
    "for i in range (0,all_DTA_info.shape[0]):\n",
    "    if(all_DTA_info['Year'][i] <=2011):\n",
    "        train_index.append(i)\n",
    "   \n",
    "    elif(all_DTA_info['Year'][i]==2012):\n",
    "        valid_index.append(i)\n",
    "                \n",
    "    else:\n",
    "        test_index.append(i)"
   ]
  },
  {
   "cell_type": "code",
   "execution_count": 795,
   "metadata": {},
   "outputs": [
    {
     "data": {
      "text/plain": [
       "(547, 312, 2188)"
      ]
     },
     "execution_count": 795,
     "metadata": {},
     "output_type": "execute_result"
    }
   ],
   "source": [
    "len(test_index), len(valid_index), len(train_index)"
   ]
  },
  {
   "cell_type": "markdown",
   "metadata": {},
   "source": [
    "## 1- Affinity2Vec Embed Model"
   ]
  },
  {
   "cell_type": "code",
   "execution_count": 19,
   "metadata": {},
   "outputs": [
    {
     "ename": "NameError",
     "evalue": "name 'sumEmbed' is not defined",
     "output_type": "error",
     "traceback": [
      "\u001b[1;31m---------------------------------------------------------------------------\u001b[0m",
      "\u001b[1;31mNameError\u001b[0m                                 Traceback (most recent call last)",
      "Cell \u001b[1;32mIn[19], line 1\u001b[0m\n\u001b[1;32m----> 1\u001b[0m FV_targets_sq \u001b[38;5;241m=\u001b[39m np\u001b[38;5;241m.\u001b[39marray(\u001b[43msumEmbed\u001b[49m, dtype \u001b[38;5;241m=\u001b[39m \u001b[38;5;28mfloat\u001b[39m)\n\u001b[0;32m      2\u001b[0m FV_drugs_sq \u001b[38;5;241m=\u001b[39m np\u001b[38;5;241m.\u001b[39marray(pdb_sm_EMBED, dtype \u001b[38;5;241m=\u001b[39m \u001b[38;5;28mfloat\u001b[39m)\n\u001b[0;32m      4\u001b[0m concatenateFV \u001b[38;5;241m=\u001b[39m []\n",
      "\u001b[1;31mNameError\u001b[0m: name 'sumEmbed' is not defined"
     ]
    }
   ],
   "source": [
    "FV_targets_sq = np.array(sumEmbed, dtype = float)\n",
    "FV_drugs_sq = np.array(pdb_sm_EMBED, dtype = float)\n",
    "\n",
    "concatenateFV = []\n",
    "class_labels = []\n",
    "lab = []\n",
    "for i in range (all_DTA_info.shape[0]):\n",
    "#     print(i)\n",
    "    features = list(FV_drugs_sq[i]) + list(FV_targets_sq[i])\n",
    "    concatenateFV.append(features)\n",
    "    label = all_DTA_info['Affinity'][i]\n",
    "    lab.append(label)"
   ]
  },
  {
   "cell_type": "code",
   "execution_count": 901,
   "metadata": {},
   "outputs": [
    {
     "name": "stdout",
     "output_type": "stream",
     "text": [
      "ConcatFV shape (3047, 228)\n"
     ]
    }
   ],
   "source": [
    "X = np.array(concatenateFV)\n",
    "YY = np.array(lab)\n",
    "print('ConcatFV shape',X.shape)"
   ]
  },
  {
   "cell_type": "code",
   "execution_count": 902,
   "metadata": {},
   "outputs": [],
   "source": [
    "xg_reg= xgb.XGBRegressor(booster = 'gbtree', objective ='reg:squarederror', \n",
    "        eval_metric = 'rmse', colsample_bytree = 0.8, learning_rate = 0.01, max_depth = 15,\n",
    "        scale_pos_weight = 1, gamma=0,alpha = 5,n_estimators = 655, tree_method='gpu_hist',\n",
    "        min_child_weight =6,seed=10, gpu_id=1, n_jobs=-1) "
   ]
  },
  {
   "cell_type": "code",
   "execution_count": 903,
   "metadata": {},
   "outputs": [
    {
     "data": {
      "text/plain": [
       "XGBRegressor(alpha=5, base_score=0.5, booster='gbtree', colsample_bylevel=1,\n",
       "             colsample_bynode=1, colsample_bytree=0.8, eval_metric='rmse',\n",
       "             gamma=0, gpu_id=1, importance_type='gain',\n",
       "             interaction_constraints='', learning_rate=0.01, max_delta_step=0,\n",
       "             max_depth=15, min_child_weight=6, missing=nan,\n",
       "             monotone_constraints='(0,0,0,0,0,0,0,0,0,0,0,0,0,0,0,0,0,0,0,0,0,0,0,0,...,0,0,0,0,0,0,0,0,0,0,0,0,0,0,0,0,0,0,0,0,0,0,0,0,0,0,0,0,0,0,0,0,0,0,0,0,0,0,0,0,0,0,0,0,0,0,0,0,0,0,0,0,0,0,0,0,0,0,0,0,0,0,0,0,0,0,0,0,0,0,0,0,0,0,0,0,0,0,0,0)',\n",
       "             n_estimators=655, n_jobs=-1, num_parallel_tree=1, random_state=10,\n",
       "             reg_alpha=5, reg_lambda=1, scale_pos_weight=1, seed=10,\n",
       "             subsample=1, tree_method='gpu_hist', validate_parameters=1,\n",
       "             verbosity=None)"
      ]
     },
     "execution_count": 903,
     "metadata": {},
     "output_type": "execute_result"
    }
   ],
   "source": [
    "# normalize the feature vector\n",
    "min_max_scaler = MinMaxScaler()\n",
    "X_train = min_max_scaler.fit(X[train_index])\n",
    "X_train_transform = min_max_scaler.transform(X[train_index])\n",
    "\n",
    "# Train the model using the training sets\n",
    "xg_reg.fit(X_train_transform, Y[train_index])"
   ]
  },
  {
   "cell_type": "code",
   "execution_count": 904,
   "metadata": {},
   "outputs": [
    {
     "name": "stdout",
     "output_type": "stream",
     "text": [
      "----------------- *EVALUATION using Validation set* -----------------\n",
      "Mean Squared Error: 2.146\n",
      "Concordance index: 0.733445\n",
      "aupr: 0.802\n"
     ]
    }
   ],
   "source": [
    "#######################Validation SET Evaluation######################### \n",
    "X_valid_transform = min_max_scaler.transform(X[valid_index])\n",
    "predictedY= xg_reg.predict(X_valid_transform)\n",
    "\n",
    "print(\"----------------- *EVALUATION using Validation set* -----------------\")\n",
    "# Evaluation Metrics (RMSE, CI, and AUPR)\n",
    "print('Mean Squared Error: %.3f' % mean_squared_error(Y[valid_index], predictedY))\n",
    "print('Concordance index: %3f' % get_cindex(Y[valid_index], predictedY))\n",
    "print('aupr: %.3f' % average_AUPRC(Y[valid_index], predictedY))\n"
   ]
  },
  {
   "cell_type": "code",
   "execution_count": 905,
   "metadata": {},
   "outputs": [
    {
     "name": "stdout",
     "output_type": "stream",
     "text": [
      "----------------- *Test Set EVALUATION* -----------------\n",
      "Mean Squared Error: 2.254\n",
      "Concordance index: 0.727442\n",
      "aupr: 0.791\n"
     ]
    }
   ],
   "source": [
    "########################### Test SET Evaluation\n",
    "\n",
    "print(\"----------------- *Test Set EVALUATION* -----------------\")\n",
    "X_test_transform = min_max_scaler.transform(X[test_index])\n",
    "# Make predictions using the testing set\n",
    "predictedY_test= xg_reg.predict(X_test_transform)\n",
    "\n",
    "# Evaluation Metrics (RMSE, CI, and AUPR)\n",
    "print('Mean Squared Error: %.3f' % mean_squared_error(Y[test_index], predictedY_test))\n",
    "print('Concordance index: %3f' % get_cindex(Y[test_index], predictedY_test))\n",
    "print('aupr: %.3f' % average_AUPRC(Y[test_index], predictedY_test))"
   ]
  },
  {
   "cell_type": "markdown",
   "metadata": {},
   "source": [
    "## 2- Affinity2Vec Path-scors model"
   ]
  },
  {
   "cell_type": "code",
   "execution_count": 528,
   "metadata": {},
   "outputs": [],
   "source": [
    "#first thing with affinity train to remove all edges in test set\n",
    "train_aff_M = Mask_test_index(test_index, XPair, aff_exp, DrID, PrID)"
   ]
  },
  {
   "cell_type": "code",
   "execution_count": 529,
   "metadata": {},
   "outputs": [],
   "source": [
    "# Generate all featres from the matrix multiplication under each path strucutre..\n",
    "\n",
    "sumDDD, maxDDD = DDD_TTT_sim(DD_Sim_sm)\n",
    "sumTTT, maxTTT= DDD_TTT_sim(PP_Sim_sq)\n",
    "\n",
    "sumDDT,maxDDT = metaPath_Dsim_DT(DD_Sim_sm,train_aff_M,2)\n",
    "sumDTT,maxDTT = metaPath_DT_Tsim(PP_Sim_sq,train_aff_M,2)\n",
    "\n",
    "sumDDDT,_ = metaPath_Dsim_DT(sumDDD,train_aff_M,3)\n",
    "_,maxDDDT = metaPath_Dsim_DT(maxDDD,train_aff_M,3)\n",
    "\n",
    "sumDTTT,_ = metaPath_DT_Tsim(sumTTT,train_aff_M,3)\n",
    "_,maxDTTT = metaPath_DT_Tsim(maxTTT,train_aff_M,3)\n",
    "\n",
    "sumDTDT,maxDTDT = metaPath_DTDT(train_aff_M)\n",
    "sumDDTT,maxDDTT = metaPath_DDTT(train_aff_M,DD_Sim_sm,PP_Sim_sq)"
   ]
  },
  {
   "cell_type": "code",
   "execution_count": 911,
   "metadata": {},
   "outputs": [],
   "source": [
    "DT_score = []\n",
    "lab = []\n",
    "for i,j in zip(label_row_inds,label_col_inds): #di , #tj      \n",
    "    pair_scores = (sumDDT[i][j],sumDDDT[i][j],sumDTT[i][j],sumDTTT[i][j], sumDDTT[i][j],\\\n",
    "                   maxDDT[i][j],maxDDDT[i][j],maxDTT[i][j],maxDTTT[i][j],maxDDTT[i][j])\n",
    "    \n",
    "    DT_score.append(pair_scores)\n",
    "    label = aff_exp[i][j]\n",
    "    lab.append(label)\n",
    "\n",
    "FV= np.asarray(DT_score)"
   ]
  },
  {
   "cell_type": "code",
   "execution_count": 912,
   "metadata": {},
   "outputs": [],
   "source": [
    "xg_reg = xgb.XGBRegressor(booster = 'gbtree', objective ='reg:squarederror', eval_metric = 'rmse',\n",
    "                    colsample_bytree = 0.8, learning_rate = 0.01, max_depth = 15, scale_pos_weight = 1, gamma=0,\n",
    "                     alpha = 5,n_estimators = 433, tree_method='gpu_hist',min_child_weight =6, \n",
    "                    seed=10, gpu_id=1, n_jobs=-1) #better & faster"
   ]
  },
  {
   "cell_type": "code",
   "execution_count": 913,
   "metadata": {},
   "outputs": [
    {
     "data": {
      "text/plain": [
       "XGBRegressor(alpha=5, base_score=0.5, booster='gbtree', colsample_bylevel=1,\n",
       "             colsample_bynode=1, colsample_bytree=0.8, eval_metric='rmse',\n",
       "             gamma=0, gpu_id=1, importance_type='gain',\n",
       "             interaction_constraints='', learning_rate=0.01, max_delta_step=0,\n",
       "             max_depth=15, min_child_weight=6, missing=nan,\n",
       "             monotone_constraints='(0,0,0,0,0,0,0,0,0,0)', n_estimators=433,\n",
       "             n_jobs=-1, num_parallel_tree=1, random_state=10, reg_alpha=5,\n",
       "             reg_lambda=1, scale_pos_weight=1, seed=10, subsample=1,\n",
       "             tree_method='gpu_hist', validate_parameters=1, verbosity=None)"
      ]
     },
     "execution_count": 913,
     "metadata": {},
     "output_type": "execute_result"
    }
   ],
   "source": [
    "X = np.array(FV,dtype=np.float32)\n",
    "# Y = np.array(lab,dtype=np.float32)\n",
    "\n",
    "min_max_scaler = MinMaxScaler()\n",
    "X_train = min_max_scaler.fit(X[train_index])\n",
    "X_train_transform = min_max_scaler.transform(X[train_index])\n",
    "\n",
    "xg_reg.fit(X_train_transform, Y[train_index])"
   ]
  },
  {
   "cell_type": "code",
   "execution_count": 914,
   "metadata": {},
   "outputs": [
    {
     "name": "stdout",
     "output_type": "stream",
     "text": [
      "----------------- *EVALUATION using Validation set* -----------------\n",
      "Mean Squared Error: 2.955\n",
      "Concordance index: 0.667999\n",
      "aupr: 0.692\n"
     ]
    }
   ],
   "source": [
    "#######################Validation SET Evaluation######################### \n",
    "\n",
    "X_valid_transform = min_max_scaler.transform(X[valid_index])\n",
    "predictedY= xg_reg.predict(X_valid_transform)\n",
    "\n",
    "print(\"----------------- *EVALUATION using Validation set* -----------------\")\n",
    "# Evaluation Metrics (RMSE, CI, and AUPR)\n",
    "print('Mean Squared Error: %.3f' % mean_squared_error(Y[valid_index], predictedY))\n",
    "print('Concordance index: %3f' % get_cindex(Y[valid_index], predictedY))\n",
    "print('aupr: %.3f' % average_AUPRC(Y[valid_index], predictedY))\n"
   ]
  },
  {
   "cell_type": "code",
   "execution_count": 915,
   "metadata": {},
   "outputs": [
    {
     "name": "stdout",
     "output_type": "stream",
     "text": [
      "----------------- *Test Set EVALUATION* -----------------\n",
      "Mean Squared Error: 3.036\n",
      "Concordance index: 0.662360\n",
      "aupr: 0.673\n"
     ]
    }
   ],
   "source": [
    "########################################## Test SET Evaluation\n",
    "\n",
    "print(\"----------------- *Test Set EVALUATION* -----------------\")\n",
    "X_test_transform = min_max_scaler.transform(X[test_index])\n",
    "# Make predictions using the testing set\n",
    "predictedY_test= xg_reg.predict(X_test_transform)\n",
    "\n",
    "# Evaluation Metrics (RMSE, CI, and AUPR)\n",
    "print('Mean Squared Error: %.3f' % mean_squared_error(Y[test_index], predictedY_test))\n",
    "print('Concordance index: %3f' % get_cindex(Y[test_index], predictedY_test))\n",
    "print('aupr: %.3f' % average_AUPRC(Y[test_index], predictedY_test))"
   ]
  },
  {
   "cell_type": "markdown",
   "metadata": {},
   "source": [
    "## 3- Affinity2Vec Hybrid Model"
   ]
  },
  {
   "cell_type": "code",
   "execution_count": 916,
   "metadata": {},
   "outputs": [
    {
     "data": {
      "text/plain": [
       "XGBRegressor(alpha=5, base_score=0.5, booster='gbtree', colsample_bylevel=1,\n",
       "             colsample_bynode=1, colsample_bytree=0.8, eval_metric='rmse',\n",
       "             gamma=0, gpu_id=1, importance_type='gain',\n",
       "             interaction_constraints='', learning_rate=0.01, max_delta_step=0,\n",
       "             max_depth=11, min_child_weight=6, missing=nan,\n",
       "             monotone_constraints='(0,0,0,0,0,0,0,0,0,0,0,0,0,0,0,0,0,0,0,0,0,0,0,0,...,0,0,0,0,0,0,0,0,0,0,0,0,0,0,0,0,0,0,0,0,0,0,0,0,0,0,0,0,0,0,0,0,0,0,0,0,0,0,0,0,0,0,0,0,0,0,0,0,0,0,0,0,0,0,0,0,0,0,0,0,0,0,0,0,0,0,0,0,0,0,0,0,0,0,0,0,0,0,0,0)',\n",
       "             n_estimators=529, n_jobs=-1, num_parallel_tree=1, random_state=10,\n",
       "             reg_alpha=5, reg_lambda=1, scale_pos_weight=1, seed=10,\n",
       "             subsample=1, tree_method='gpu_hist', validate_parameters=1,\n",
       "             verbosity=None)"
      ]
     },
     "execution_count": 916,
     "metadata": {},
     "output_type": "execute_result"
    }
   ],
   "source": [
    "X = np.concatenate((FV,concatenateFV), axis=1)\n",
    "\n",
    "xg_reg = xgb.XGBRegressor(booster = 'gbtree', objective ='reg:squarederror', eval_metric = 'rmse',\n",
    "                    colsample_bytree = 0.8, learning_rate = 0.01, max_depth = 11, scale_pos_weight = 1, gamma=0,\n",
    "                     alpha = 5,n_estimators = 529, tree_method='gpu_hist',min_child_weight =6, \n",
    "                    seed=10, gpu_id=1, n_jobs=-1) #better & faster\n",
    "\n",
    "min_max_scaler = MinMaxScaler()\n",
    "X_train = min_max_scaler.fit(X[train_index])\n",
    "X_train_transform = min_max_scaler.transform(X[train_index])\n",
    "\n",
    "xg_reg.fit(X_train_transform, Y[train_index])"
   ]
  },
  {
   "cell_type": "code",
   "execution_count": 917,
   "metadata": {},
   "outputs": [
    {
     "name": "stdout",
     "output_type": "stream",
     "text": [
      "----------------- *EVALUATION using Validation set* -----------------\n",
      "Mean Squared Error: 2.221\n",
      "Concordance index: 0.730162\n",
      "aupr: 0.802\n"
     ]
    }
   ],
   "source": [
    "#######################Validation SET Evaluation######################### \n",
    "\n",
    "X_valid_transform = min_max_scaler.transform(X[valid_index])\n",
    "predictedY= xg_reg.predict(X_valid_transform)\n",
    "\n",
    "print(\"----------------- *EVALUATION using Validation set* -----------------\")\n",
    "# Evaluation Metrics (RMSE, CI, and AUPR)\n",
    "print('Mean Squared Error: %.3f' % mean_squared_error(Y[valid_index], predictedY))\n",
    "print('Concordance index: %3f' % get_cindex(Y[valid_index], predictedY))\n",
    "print('aupr: %.3f' % average_AUPRC(Y[valid_index], predictedY))"
   ]
  },
  {
   "cell_type": "code",
   "execution_count": 918,
   "metadata": {},
   "outputs": [
    {
     "name": "stdout",
     "output_type": "stream",
     "text": [
      "----------------- *Test Set EVALUATION* -----------------\n",
      "Mean Squared Error: 2.286\n",
      "Concordance index: 0.722227\n",
      "aupr: 0.784\n"
     ]
    }
   ],
   "source": [
    "########################################## Test SET Evaluation\n",
    "\n",
    "print(\"----------------- *Test Set EVALUATION* -----------------\")\n",
    "X_test_transform = min_max_scaler.transform(X[test_index])\n",
    "# Make predictions using the testing set\n",
    "predictedY_test= xg_reg.predict(X_test_transform)\n",
    "\n",
    "# Evaluation Metrics (RMSE, CI, and AUPR)\n",
    "print('Mean Squared Error: %.3f' % mean_squared_error(Y[test_index], predictedY_test))\n",
    "print('Concordance index: %3f' % get_cindex(Y[test_index], predictedY_test))\n",
    "print('aupr: %.3f' % average_AUPRC(Y[test_index], predictedY_test))"
   ]
  },
  {
   "cell_type": "code",
   "execution_count": null,
   "id": "17a68715",
   "metadata": {},
   "outputs": [],
   "source": []
  },
  {
   "cell_type": "code",
   "execution_count": 6,
   "id": "f8eddb97",
   "metadata": {},
   "outputs": [
    {
     "name": "stdout",
     "output_type": "stream",
     "text": [
      "Epoch 1/100\n"
     ]
    },
    {
     "name": "stderr",
     "output_type": "stream",
     "text": [
      "d:\\py\\Lib\\site-packages\\keras\\src\\models\\functional.py:225: UserWarning: The structure of `inputs` doesn't match the expected structure: ['keras_tensor_20', 'keras_tensor_26']. Received: the structure of inputs=('*', '*')\n",
      "  warnings.warn(\n"
     ]
    },
    {
     "name": "stdout",
     "output_type": "stream",
     "text": [
      "\u001b[1m1/1\u001b[0m \u001b[32m━━━━━━━━━━━━━━━━━━━━\u001b[0m\u001b[37m\u001b[0m \u001b[1m4s\u001b[0m 4s/step - loss: 1.6070\n",
      "Epoch 2/100\n",
      "\u001b[1m1/1\u001b[0m \u001b[32m━━━━━━━━━━━━━━━━━━━━\u001b[0m\u001b[37m\u001b[0m \u001b[1m0s\u001b[0m 54ms/step - loss: 1.5908\n",
      "Epoch 3/100\n",
      "\u001b[1m1/1\u001b[0m \u001b[32m━━━━━━━━━━━━━━━━━━━━\u001b[0m\u001b[37m\u001b[0m \u001b[1m0s\u001b[0m 43ms/step - loss: 1.5745\n",
      "Epoch 4/100\n",
      "\u001b[1m1/1\u001b[0m \u001b[32m━━━━━━━━━━━━━━━━━━━━\u001b[0m\u001b[37m\u001b[0m \u001b[1m0s\u001b[0m 37ms/step - loss: 1.5570\n",
      "Epoch 5/100\n",
      "\u001b[1m1/1\u001b[0m \u001b[32m━━━━━━━━━━━━━━━━━━━━\u001b[0m\u001b[37m\u001b[0m \u001b[1m0s\u001b[0m 41ms/step - loss: 1.5374\n",
      "Epoch 6/100\n",
      "\u001b[1m1/1\u001b[0m \u001b[32m━━━━━━━━━━━━━━━━━━━━\u001b[0m\u001b[37m\u001b[0m \u001b[1m0s\u001b[0m 41ms/step - loss: 1.5148\n",
      "Epoch 7/100\n",
      "\u001b[1m1/1\u001b[0m \u001b[32m━━━━━━━━━━━━━━━━━━━━\u001b[0m\u001b[37m\u001b[0m \u001b[1m0s\u001b[0m 41ms/step - loss: 1.4882\n",
      "Epoch 8/100\n",
      "\u001b[1m1/1\u001b[0m \u001b[32m━━━━━━━━━━━━━━━━━━━━\u001b[0m\u001b[37m\u001b[0m \u001b[1m0s\u001b[0m 47ms/step - loss: 1.4564\n",
      "Epoch 9/100\n",
      "\u001b[1m1/1\u001b[0m \u001b[32m━━━━━━━━━━━━━━━━━━━━\u001b[0m\u001b[37m\u001b[0m \u001b[1m0s\u001b[0m 67ms/step - loss: 1.4186\n",
      "Epoch 10/100\n",
      "\u001b[1m1/1\u001b[0m \u001b[32m━━━━━━━━━━━━━━━━━━━━\u001b[0m\u001b[37m\u001b[0m \u001b[1m0s\u001b[0m 41ms/step - loss: 1.3744\n",
      "Epoch 11/100\n",
      "\u001b[1m1/1\u001b[0m \u001b[32m━━━━━━━━━━━━━━━━━━━━\u001b[0m\u001b[37m\u001b[0m \u001b[1m0s\u001b[0m 39ms/step - loss: 1.3254\n",
      "Epoch 12/100\n",
      "\u001b[1m1/1\u001b[0m \u001b[32m━━━━━━━━━━━━━━━━━━━━\u001b[0m\u001b[37m\u001b[0m \u001b[1m0s\u001b[0m 68ms/step - loss: 1.2778\n",
      "Epoch 13/100\n",
      "\u001b[1m1/1\u001b[0m \u001b[32m━━━━━━━━━━━━━━━━━━━━\u001b[0m\u001b[37m\u001b[0m \u001b[1m0s\u001b[0m 35ms/step - loss: 1.2446\n",
      "Epoch 14/100\n",
      "\u001b[1m1/1\u001b[0m \u001b[32m━━━━━━━━━━━━━━━━━━━━\u001b[0m\u001b[37m\u001b[0m \u001b[1m0s\u001b[0m 41ms/step - loss: 1.2313\n",
      "Epoch 15/100\n",
      "\u001b[1m1/1\u001b[0m \u001b[32m━━━━━━━━━━━━━━━━━━━━\u001b[0m\u001b[37m\u001b[0m \u001b[1m0s\u001b[0m 45ms/step - loss: 1.2197\n",
      "Epoch 16/100\n",
      "\u001b[1m1/1\u001b[0m \u001b[32m━━━━━━━━━━━━━━━━━━━━\u001b[0m\u001b[37m\u001b[0m \u001b[1m0s\u001b[0m 39ms/step - loss: 1.1950\n",
      "Epoch 17/100\n",
      "\u001b[1m1/1\u001b[0m \u001b[32m━━━━━━━━━━━━━━━━━━━━\u001b[0m\u001b[37m\u001b[0m \u001b[1m0s\u001b[0m 36ms/step - loss: 1.1611\n",
      "Epoch 18/100\n",
      "\u001b[1m1/1\u001b[0m \u001b[32m━━━━━━━━━━━━━━━━━━━━\u001b[0m\u001b[37m\u001b[0m \u001b[1m0s\u001b[0m 46ms/step - loss: 1.1293\n",
      "Epoch 19/100\n",
      "\u001b[1m1/1\u001b[0m \u001b[32m━━━━━━━━━━━━━━━━━━━━\u001b[0m\u001b[37m\u001b[0m \u001b[1m0s\u001b[0m 36ms/step - loss: 1.1061\n",
      "Epoch 20/100\n",
      "\u001b[1m1/1\u001b[0m \u001b[32m━━━━━━━━━━━━━━━━━━━━\u001b[0m\u001b[37m\u001b[0m \u001b[1m0s\u001b[0m 42ms/step - loss: 1.0902\n",
      "Epoch 21/100\n",
      "\u001b[1m1/1\u001b[0m \u001b[32m━━━━━━━━━━━━━━━━━━━━\u001b[0m\u001b[37m\u001b[0m \u001b[1m0s\u001b[0m 37ms/step - loss: 1.0763\n",
      "Epoch 22/100\n",
      "\u001b[1m1/1\u001b[0m \u001b[32m━━━━━━━━━━━━━━━━━━━━\u001b[0m\u001b[37m\u001b[0m \u001b[1m0s\u001b[0m 45ms/step - loss: 1.0604\n",
      "Epoch 23/100\n",
      "\u001b[1m1/1\u001b[0m \u001b[32m━━━━━━━━━━━━━━━━━━━━\u001b[0m\u001b[37m\u001b[0m \u001b[1m0s\u001b[0m 43ms/step - loss: 1.0414\n",
      "Epoch 24/100\n",
      "\u001b[1m1/1\u001b[0m \u001b[32m━━━━━━━━━━━━━━━━━━━━\u001b[0m\u001b[37m\u001b[0m \u001b[1m0s\u001b[0m 33ms/step - loss: 1.0206\n",
      "Epoch 25/100\n",
      "\u001b[1m1/1\u001b[0m \u001b[32m━━━━━━━━━━━━━━━━━━━━\u001b[0m\u001b[37m\u001b[0m \u001b[1m0s\u001b[0m 47ms/step - loss: 1.0013\n",
      "Epoch 26/100\n",
      "\u001b[1m1/1\u001b[0m \u001b[32m━━━━━━━━━━━━━━━━━━━━\u001b[0m\u001b[37m\u001b[0m \u001b[1m0s\u001b[0m 37ms/step - loss: 0.9869\n",
      "Epoch 27/100\n",
      "\u001b[1m1/1\u001b[0m \u001b[32m━━━━━━━━━━━━━━━━━━━━\u001b[0m\u001b[37m\u001b[0m \u001b[1m0s\u001b[0m 67ms/step - loss: 0.9777\n",
      "Epoch 28/100\n",
      "\u001b[1m1/1\u001b[0m \u001b[32m━━━━━━━━━━━━━━━━━━━━\u001b[0m\u001b[37m\u001b[0m \u001b[1m0s\u001b[0m 68ms/step - loss: 0.9688\n",
      "Epoch 29/100\n",
      "\u001b[1m1/1\u001b[0m \u001b[32m━━━━━━━━━━━━━━━━━━━━\u001b[0m\u001b[37m\u001b[0m \u001b[1m0s\u001b[0m 40ms/step - loss: 0.9533\n",
      "Epoch 30/100\n",
      "\u001b[1m1/1\u001b[0m \u001b[32m━━━━━━━━━━━━━━━━━━━━\u001b[0m\u001b[37m\u001b[0m \u001b[1m0s\u001b[0m 46ms/step - loss: 0.9292\n",
      "Epoch 31/100\n",
      "\u001b[1m1/1\u001b[0m \u001b[32m━━━━━━━━━━━━━━━━━━━━\u001b[0m\u001b[37m\u001b[0m \u001b[1m0s\u001b[0m 45ms/step - loss: 0.9010\n",
      "Epoch 32/100\n",
      "\u001b[1m1/1\u001b[0m \u001b[32m━━━━━━━━━━━━━━━━━━━━\u001b[0m\u001b[37m\u001b[0m \u001b[1m0s\u001b[0m 33ms/step - loss: 0.8752\n",
      "Epoch 33/100\n",
      "\u001b[1m1/1\u001b[0m \u001b[32m━━━━━━━━━━━━━━━━━━━━\u001b[0m\u001b[37m\u001b[0m \u001b[1m0s\u001b[0m 45ms/step - loss: 0.8536\n",
      "Epoch 34/100\n",
      "\u001b[1m1/1\u001b[0m \u001b[32m━━━━━━━━━━━━━━━━━━━━\u001b[0m\u001b[37m\u001b[0m \u001b[1m0s\u001b[0m 40ms/step - loss: 0.8324\n",
      "Epoch 35/100\n",
      "\u001b[1m1/1\u001b[0m \u001b[32m━━━━━━━━━━━━━━━━━━━━\u001b[0m\u001b[37m\u001b[0m \u001b[1m0s\u001b[0m 37ms/step - loss: 0.8080\n",
      "Epoch 36/100\n",
      "\u001b[1m1/1\u001b[0m \u001b[32m━━━━━━━━━━━━━━━━━━━━\u001b[0m\u001b[37m\u001b[0m \u001b[1m0s\u001b[0m 46ms/step - loss: 0.7815\n",
      "Epoch 37/100\n",
      "\u001b[1m1/1\u001b[0m \u001b[32m━━━━━━━━━━━━━━━━━━━━\u001b[0m\u001b[37m\u001b[0m \u001b[1m0s\u001b[0m 32ms/step - loss: 0.7583\n",
      "Epoch 38/100\n",
      "\u001b[1m1/1\u001b[0m \u001b[32m━━━━━━━━━━━━━━━━━━━━\u001b[0m\u001b[37m\u001b[0m \u001b[1m0s\u001b[0m 47ms/step - loss: 0.7387\n",
      "Epoch 39/100\n",
      "\u001b[1m1/1\u001b[0m \u001b[32m━━━━━━━━━━━━━━━━━━━━\u001b[0m\u001b[37m\u001b[0m \u001b[1m0s\u001b[0m 37ms/step - loss: 0.7136\n",
      "Epoch 40/100\n",
      "\u001b[1m1/1\u001b[0m \u001b[32m━━━━━━━━━━━━━━━━━━━━\u001b[0m\u001b[37m\u001b[0m \u001b[1m0s\u001b[0m 53ms/step - loss: 0.6848\n",
      "Epoch 41/100\n",
      "\u001b[1m1/1\u001b[0m \u001b[32m━━━━━━━━━━━━━━━━━━━━\u001b[0m\u001b[37m\u001b[0m \u001b[1m0s\u001b[0m 50ms/step - loss: 0.6617\n",
      "Epoch 42/100\n",
      "\u001b[1m1/1\u001b[0m \u001b[32m━━━━━━━━━━━━━━━━━━━━\u001b[0m\u001b[37m\u001b[0m \u001b[1m0s\u001b[0m 42ms/step - loss: 0.6420\n",
      "Epoch 43/100\n",
      "\u001b[1m1/1\u001b[0m \u001b[32m━━━━━━━━━━━━━━━━━━━━\u001b[0m\u001b[37m\u001b[0m \u001b[1m0s\u001b[0m 36ms/step - loss: 0.6204\n",
      "Epoch 44/100\n",
      "\u001b[1m1/1\u001b[0m \u001b[32m━━━━━━━━━━━━━━━━━━━━\u001b[0m\u001b[37m\u001b[0m \u001b[1m0s\u001b[0m 31ms/step - loss: 0.6007\n",
      "Epoch 45/100\n",
      "\u001b[1m1/1\u001b[0m \u001b[32m━━━━━━━━━━━━━━━━━━━━\u001b[0m\u001b[37m\u001b[0m \u001b[1m0s\u001b[0m 41ms/step - loss: 0.5832\n",
      "Epoch 46/100\n",
      "\u001b[1m1/1\u001b[0m \u001b[32m━━━━━━━━━━━━━━━━━━━━\u001b[0m\u001b[37m\u001b[0m \u001b[1m0s\u001b[0m 38ms/step - loss: 0.5611\n",
      "Epoch 47/100\n",
      "\u001b[1m1/1\u001b[0m \u001b[32m━━━━━━━━━━━━━━━━━━━━\u001b[0m\u001b[37m\u001b[0m \u001b[1m0s\u001b[0m 40ms/step - loss: 0.5386\n",
      "Epoch 48/100\n",
      "\u001b[1m1/1\u001b[0m \u001b[32m━━━━━━━━━━━━━━━━━━━━\u001b[0m\u001b[37m\u001b[0m \u001b[1m0s\u001b[0m 42ms/step - loss: 0.5209\n",
      "Epoch 49/100\n",
      "\u001b[1m1/1\u001b[0m \u001b[32m━━━━━━━━━━━━━━━━━━━━\u001b[0m\u001b[37m\u001b[0m \u001b[1m0s\u001b[0m 37ms/step - loss: 0.5018\n",
      "Epoch 50/100\n",
      "\u001b[1m1/1\u001b[0m \u001b[32m━━━━━━━━━━━━━━━━━━━━\u001b[0m\u001b[37m\u001b[0m \u001b[1m0s\u001b[0m 43ms/step - loss: 0.4818\n",
      "Epoch 51/100\n",
      "\u001b[1m1/1\u001b[0m \u001b[32m━━━━━━━━━━━━━━━━━━━━\u001b[0m\u001b[37m\u001b[0m \u001b[1m0s\u001b[0m 49ms/step - loss: 0.4641\n",
      "Epoch 52/100\n",
      "\u001b[1m1/1\u001b[0m \u001b[32m━━━━━━━━━━━━━━━━━━━━\u001b[0m\u001b[37m\u001b[0m \u001b[1m0s\u001b[0m 46ms/step - loss: 0.4467\n",
      "Epoch 53/100\n",
      "\u001b[1m1/1\u001b[0m \u001b[32m━━━━━━━━━━━━━━━━━━━━\u001b[0m\u001b[37m\u001b[0m \u001b[1m0s\u001b[0m 38ms/step - loss: 0.4340\n",
      "Epoch 54/100\n",
      "\u001b[1m1/1\u001b[0m \u001b[32m━━━━━━━━━━━━━━━━━━━━\u001b[0m\u001b[37m\u001b[0m \u001b[1m0s\u001b[0m 35ms/step - loss: 0.4212\n",
      "Epoch 55/100\n",
      "\u001b[1m1/1\u001b[0m \u001b[32m━━━━━━━━━━━━━━━━━━━━\u001b[0m\u001b[37m\u001b[0m \u001b[1m0s\u001b[0m 34ms/step - loss: 0.4054\n",
      "Epoch 56/100\n",
      "\u001b[1m1/1\u001b[0m \u001b[32m━━━━━━━━━━━━━━━━━━━━\u001b[0m\u001b[37m\u001b[0m \u001b[1m0s\u001b[0m 39ms/step - loss: 0.3907\n",
      "Epoch 57/100\n",
      "\u001b[1m1/1\u001b[0m \u001b[32m━━━━━━━━━━━━━━━━━━━━\u001b[0m\u001b[37m\u001b[0m \u001b[1m0s\u001b[0m 42ms/step - loss: 0.3748\n",
      "Epoch 58/100\n",
      "\u001b[1m1/1\u001b[0m \u001b[32m━━━━━━━━━━━━━━━━━━━━\u001b[0m\u001b[37m\u001b[0m \u001b[1m0s\u001b[0m 43ms/step - loss: 0.3604\n",
      "Epoch 59/100\n",
      "\u001b[1m1/1\u001b[0m \u001b[32m━━━━━━━━━━━━━━━━━━━━\u001b[0m\u001b[37m\u001b[0m \u001b[1m0s\u001b[0m 52ms/step - loss: 0.3471\n",
      "Epoch 60/100\n",
      "\u001b[1m1/1\u001b[0m \u001b[32m━━━━━━━━━━━━━━━━━━━━\u001b[0m\u001b[37m\u001b[0m \u001b[1m0s\u001b[0m 46ms/step - loss: 0.3334\n",
      "Epoch 61/100\n",
      "\u001b[1m1/1\u001b[0m \u001b[32m━━━━━━━━━━━━━━━━━━━━\u001b[0m\u001b[37m\u001b[0m \u001b[1m0s\u001b[0m 36ms/step - loss: 0.3221\n",
      "Epoch 62/100\n",
      "\u001b[1m1/1\u001b[0m \u001b[32m━━━━━━━━━━━━━━━━━━━━\u001b[0m\u001b[37m\u001b[0m \u001b[1m0s\u001b[0m 50ms/step - loss: 0.3101\n",
      "Epoch 63/100\n",
      "\u001b[1m1/1\u001b[0m \u001b[32m━━━━━━━━━━━━━━━━━━━━\u001b[0m\u001b[37m\u001b[0m \u001b[1m0s\u001b[0m 86ms/step - loss: 0.2986\n",
      "Epoch 64/100\n",
      "\u001b[1m1/1\u001b[0m \u001b[32m━━━━━━━━━━━━━━━━━━━━\u001b[0m\u001b[37m\u001b[0m \u001b[1m0s\u001b[0m 50ms/step - loss: 0.2864\n",
      "Epoch 65/100\n",
      "\u001b[1m1/1\u001b[0m \u001b[32m━━━━━━━━━━━━━━━━━━━━\u001b[0m\u001b[37m\u001b[0m \u001b[1m0s\u001b[0m 41ms/step - loss: 0.2739\n",
      "Epoch 66/100\n",
      "\u001b[1m1/1\u001b[0m \u001b[32m━━━━━━━━━━━━━━━━━━━━\u001b[0m\u001b[37m\u001b[0m \u001b[1m0s\u001b[0m 43ms/step - loss: 0.2628\n",
      "Epoch 67/100\n",
      "\u001b[1m1/1\u001b[0m \u001b[32m━━━━━━━━━━━━━━━━━━━━\u001b[0m\u001b[37m\u001b[0m \u001b[1m0s\u001b[0m 42ms/step - loss: 0.2518\n",
      "Epoch 68/100\n",
      "\u001b[1m1/1\u001b[0m \u001b[32m━━━━━━━━━━━━━━━━━━━━\u001b[0m\u001b[37m\u001b[0m \u001b[1m0s\u001b[0m 39ms/step - loss: 0.2419\n",
      "Epoch 69/100\n",
      "\u001b[1m1/1\u001b[0m \u001b[32m━━━━━━━━━━━━━━━━━━━━\u001b[0m\u001b[37m\u001b[0m \u001b[1m0s\u001b[0m 51ms/step - loss: 0.2317\n",
      "Epoch 70/100\n",
      "\u001b[1m1/1\u001b[0m \u001b[32m━━━━━━━━━━━━━━━━━━━━\u001b[0m\u001b[37m\u001b[0m \u001b[1m0s\u001b[0m 38ms/step - loss: 0.2215\n",
      "Epoch 71/100\n",
      "\u001b[1m1/1\u001b[0m \u001b[32m━━━━━━━━━━━━━━━━━━━━\u001b[0m\u001b[37m\u001b[0m \u001b[1m0s\u001b[0m 40ms/step - loss: 0.2113\n",
      "Epoch 72/100\n",
      "\u001b[1m1/1\u001b[0m \u001b[32m━━━━━━━━━━━━━━━━━━━━\u001b[0m\u001b[37m\u001b[0m \u001b[1m0s\u001b[0m 37ms/step - loss: 0.2011\n",
      "Epoch 73/100\n",
      "\u001b[1m1/1\u001b[0m \u001b[32m━━━━━━━━━━━━━━━━━━━━\u001b[0m\u001b[37m\u001b[0m \u001b[1m0s\u001b[0m 45ms/step - loss: 0.1917\n",
      "Epoch 74/100\n",
      "\u001b[1m1/1\u001b[0m \u001b[32m━━━━━━━━━━━━━━━━━━━━\u001b[0m\u001b[37m\u001b[0m \u001b[1m0s\u001b[0m 48ms/step - loss: 0.1823\n",
      "Epoch 75/100\n",
      "\u001b[1m1/1\u001b[0m \u001b[32m━━━━━━━━━━━━━━━━━━━━\u001b[0m\u001b[37m\u001b[0m \u001b[1m0s\u001b[0m 47ms/step - loss: 0.1735\n",
      "Epoch 76/100\n",
      "\u001b[1m1/1\u001b[0m \u001b[32m━━━━━━━━━━━━━━━━━━━━\u001b[0m\u001b[37m\u001b[0m \u001b[1m0s\u001b[0m 45ms/step - loss: 0.1648\n",
      "Epoch 77/100\n",
      "\u001b[1m1/1\u001b[0m \u001b[32m━━━━━━━━━━━━━━━━━━━━\u001b[0m\u001b[37m\u001b[0m \u001b[1m0s\u001b[0m 48ms/step - loss: 0.1563\n",
      "Epoch 78/100\n",
      "\u001b[1m1/1\u001b[0m \u001b[32m━━━━━━━━━━━━━━━━━━━━\u001b[0m\u001b[37m\u001b[0m \u001b[1m0s\u001b[0m 45ms/step - loss: 0.1482\n",
      "Epoch 79/100\n",
      "\u001b[1m1/1\u001b[0m \u001b[32m━━━━━━━━━━━━━━━━━━━━\u001b[0m\u001b[37m\u001b[0m \u001b[1m0s\u001b[0m 41ms/step - loss: 0.1403\n",
      "Epoch 80/100\n",
      "\u001b[1m1/1\u001b[0m \u001b[32m━━━━━━━━━━━━━━━━━━━━\u001b[0m\u001b[37m\u001b[0m \u001b[1m0s\u001b[0m 47ms/step - loss: 0.1328\n",
      "Epoch 81/100\n",
      "\u001b[1m1/1\u001b[0m \u001b[32m━━━━━━━━━━━━━━━━━━━━\u001b[0m\u001b[37m\u001b[0m \u001b[1m0s\u001b[0m 38ms/step - loss: 0.1257\n",
      "Epoch 82/100\n",
      "\u001b[1m1/1\u001b[0m \u001b[32m━━━━━━━━━━━━━━━━━━━━\u001b[0m\u001b[37m\u001b[0m \u001b[1m0s\u001b[0m 40ms/step - loss: 0.1191\n",
      "Epoch 83/100\n",
      "\u001b[1m1/1\u001b[0m \u001b[32m━━━━━━━━━━━━━━━━━━━━\u001b[0m\u001b[37m\u001b[0m \u001b[1m0s\u001b[0m 50ms/step - loss: 0.1130\n",
      "Epoch 84/100\n",
      "\u001b[1m1/1\u001b[0m \u001b[32m━━━━━━━━━━━━━━━━━━━━\u001b[0m\u001b[37m\u001b[0m \u001b[1m0s\u001b[0m 59ms/step - loss: 0.1072\n",
      "Epoch 85/100\n",
      "\u001b[1m1/1\u001b[0m \u001b[32m━━━━━━━━━━━━━━━━━━━━\u001b[0m\u001b[37m\u001b[0m \u001b[1m0s\u001b[0m 54ms/step - loss: 0.1018\n",
      "Epoch 86/100\n",
      "\u001b[1m1/1\u001b[0m \u001b[32m━━━━━━━━━━━━━━━━━━━━\u001b[0m\u001b[37m\u001b[0m \u001b[1m0s\u001b[0m 50ms/step - loss: 0.0969\n",
      "Epoch 87/100\n",
      "\u001b[1m1/1\u001b[0m \u001b[32m━━━━━━━━━━━━━━━━━━━━\u001b[0m\u001b[37m\u001b[0m \u001b[1m0s\u001b[0m 48ms/step - loss: 0.0923\n",
      "Epoch 88/100\n",
      "\u001b[1m1/1\u001b[0m \u001b[32m━━━━━━━━━━━━━━━━━━━━\u001b[0m\u001b[37m\u001b[0m \u001b[1m0s\u001b[0m 46ms/step - loss: 0.0879\n",
      "Epoch 89/100\n",
      "\u001b[1m1/1\u001b[0m \u001b[32m━━━━━━━━━━━━━━━━━━━━\u001b[0m\u001b[37m\u001b[0m \u001b[1m0s\u001b[0m 40ms/step - loss: 0.0838\n",
      "Epoch 90/100\n",
      "\u001b[1m1/1\u001b[0m \u001b[32m━━━━━━━━━━━━━━━━━━━━\u001b[0m\u001b[37m\u001b[0m \u001b[1m0s\u001b[0m 36ms/step - loss: 0.0798\n",
      "Epoch 91/100\n",
      "\u001b[1m1/1\u001b[0m \u001b[32m━━━━━━━━━━━━━━━━━━━━\u001b[0m\u001b[37m\u001b[0m \u001b[1m0s\u001b[0m 53ms/step - loss: 0.0760\n",
      "Epoch 92/100\n",
      "\u001b[1m1/1\u001b[0m \u001b[32m━━━━━━━━━━━━━━━━━━━━\u001b[0m\u001b[37m\u001b[0m \u001b[1m0s\u001b[0m 47ms/step - loss: 0.0724\n",
      "Epoch 93/100\n",
      "\u001b[1m1/1\u001b[0m \u001b[32m━━━━━━━━━━━━━━━━━━━━\u001b[0m\u001b[37m\u001b[0m \u001b[1m0s\u001b[0m 41ms/step - loss: 0.0687\n",
      "Epoch 94/100\n",
      "\u001b[1m1/1\u001b[0m \u001b[32m━━━━━━━━━━━━━━━━━━━━\u001b[0m\u001b[37m\u001b[0m \u001b[1m0s\u001b[0m 44ms/step - loss: 0.0651\n",
      "Epoch 95/100\n",
      "\u001b[1m1/1\u001b[0m \u001b[32m━━━━━━━━━━━━━━━━━━━━\u001b[0m\u001b[37m\u001b[0m \u001b[1m0s\u001b[0m 42ms/step - loss: 0.0614\n",
      "Epoch 96/100\n",
      "\u001b[1m1/1\u001b[0m \u001b[32m━━━━━━━━━━━━━━━━━━━━\u001b[0m\u001b[37m\u001b[0m \u001b[1m0s\u001b[0m 41ms/step - loss: 0.0578\n",
      "Epoch 97/100\n",
      "\u001b[1m1/1\u001b[0m \u001b[32m━━━━━━━━━━━━━━━━━━━━\u001b[0m\u001b[37m\u001b[0m \u001b[1m0s\u001b[0m 51ms/step - loss: 0.0541\n",
      "Epoch 98/100\n",
      "\u001b[1m1/1\u001b[0m \u001b[32m━━━━━━━━━━━━━━━━━━━━\u001b[0m\u001b[37m\u001b[0m \u001b[1m0s\u001b[0m 41ms/step - loss: 0.0505\n",
      "Epoch 99/100\n",
      "\u001b[1m1/1\u001b[0m \u001b[32m━━━━━━━━━━━━━━━━━━━━\u001b[0m\u001b[37m\u001b[0m \u001b[1m0s\u001b[0m 43ms/step - loss: 0.0468\n",
      "Epoch 100/100\n",
      "\u001b[1m1/1\u001b[0m \u001b[32m━━━━━━━━━━━━━━━━━━━━\u001b[0m\u001b[37m\u001b[0m \u001b[1m0s\u001b[0m 34ms/step - loss: 0.0432\n",
      "\u001b[1m1/1\u001b[0m \u001b[32m━━━━━━━━━━━━━━━━━━━━\u001b[0m\u001b[37m\u001b[0m \u001b[1m0s\u001b[0m 247ms/step\n",
      "SMILES: CCO => Embedding: [-0.0631667  -0.58520263 -0.13226673  0.30763754 -0.35898054  0.09724366\n",
      " -0.6239584   0.32754055  0.23693621 -0.59108204 -0.62251264 -0.61165166\n",
      "  0.3860335   0.64572555 -0.33724606  0.24440885 -0.31333485  0.23335722\n",
      " -0.46504575  0.18076348 -0.7069272   0.13610786 -0.42112428  0.3468718\n",
      " -0.59866685 -0.3860723   0.4387881  -0.30678806 -0.5341762  -0.54822135\n",
      " -0.09017097 -0.395706    0.5504425  -0.4475955  -0.23019472  0.18732017\n",
      "  0.01909898  0.57403517 -0.28132856  0.5080099   0.58107376 -0.5099882\n",
      " -0.30494702 -0.6589469  -0.4991645  -0.37835804  0.51208735  0.7427458\n",
      "  0.22547887 -0.18571307  0.07372498 -0.63587     0.19187015 -0.47162193\n",
      "  0.08980606 -0.35041663  0.594303    0.08055593 -0.24050549  0.6139916\n",
      " -0.09594743  0.25584525  0.26174405  0.1514708  -0.31738004 -0.61349326\n",
      " -0.5119687   0.48509884 -0.7121963  -0.50035393  0.61013573  0.54496574\n",
      " -0.49234498 -0.21821386 -0.64505076 -0.5994892  -0.23251447  0.48341858\n",
      " -0.2486095   0.22931252 -0.266923   -0.493293    0.05005616 -0.26912466\n",
      "  0.01050176  0.303391   -0.5957601  -0.69669944 -0.23943526 -0.39543626\n",
      " -0.07771601  0.5599037   0.36463842 -0.62708336 -0.5122376   0.45947695\n",
      " -0.60437965 -0.72688216  0.64485407  0.49135613 -0.54253525 -0.28692782\n",
      "  0.33806217 -0.09581815  0.53118926  0.75576717  0.3248118   0.3146385\n",
      "  0.05078419 -0.5652334   0.5599667  -0.7491938   0.10561096  0.5849358\n",
      " -0.697314   -0.02741761  0.4337703   0.2952936   0.24841617  0.01556061\n",
      "  0.52617407 -0.589084   -0.48576564 -0.2675255  -0.534817   -0.4604052\n",
      "  0.700294    0.28678057]\n",
      "SMILES: CCN => Embedding: [-0.21108365 -0.64410067 -0.07736158  0.37309217 -0.40370846  0.20480219\n",
      " -0.69363225  0.3202499   0.24785584 -0.59362876 -0.630127   -0.5797812\n",
      "  0.35866487  0.68832743 -0.36714703  0.39747882 -0.3706318   0.2762734\n",
      " -0.45481515  0.10896244 -0.69905406  0.16075242 -0.3523982   0.44320312\n",
      " -0.5767512  -0.55760634  0.47477746 -0.33981198 -0.53489274 -0.5493876\n",
      " -0.47121122 -0.38554162  0.63804924 -0.4497431  -0.19297333  0.08743971\n",
      " -0.04316049  0.5497118  -0.34969035  0.55189174  0.63517654 -0.62529314\n",
      " -0.3305875  -0.65387213 -0.71812916 -0.39320144  0.5795222   0.74330664\n",
      "  0.39636195 -0.28309888  0.24136709 -0.6271611   0.29154336 -0.5022144\n",
      "  0.33528805 -0.46234906  0.5879945   0.14624822 -0.19171716  0.66587025\n",
      " -0.4079827   0.17243116  0.36131564  0.14251377 -0.4130446  -0.5842458\n",
      " -0.58092886  0.5025336  -0.7208026  -0.6013547   0.6485062   0.56919444\n",
      " -0.5322435  -0.27760628 -0.68319094 -0.6121349  -0.2592773   0.5726292\n",
      " -0.30340964  0.53470445 -0.33734804 -0.47346207 -0.00800308 -0.22422196\n",
      "  0.1311826   0.31494248 -0.63901764 -0.6935677  -0.24731334 -0.3932551\n",
      " -0.10563146  0.6266214   0.46742767 -0.5702674  -0.5883578   0.4032761\n",
      " -0.602442   -0.7174258   0.71315813  0.3850193  -0.6248121  -0.24594478\n",
      "  0.31804496 -0.05490109  0.5773849   0.74607706  0.41588452  0.4277266\n",
      "  0.1006479  -0.58528554  0.60222286 -0.7239561   0.16055289  0.59658945\n",
      " -0.7080649  -0.05363091  0.43106583  0.40239003  0.36431038 -0.00874975\n",
      "  0.64744383 -0.62978417 -0.4934007  -0.3359471  -0.5866031  -0.5386036\n",
      "  0.7032451   0.21340488]\n",
      "SMILES: CCCC => Embedding: [-0.12196096 -0.93069816 -0.5589193   0.5730597  -0.88002026  0.6681186\n",
      " -0.95074946  0.44981775  0.39478886 -0.93278456 -0.90548176 -0.85095453\n",
      "  0.7450169   0.9495579  -0.7885798   0.6076431  -0.61868334  0.50492644\n",
      " -0.8895941   0.7434049  -0.91785526  0.08881441 -0.8411565   0.75320894\n",
      " -0.9336969  -0.8013316   0.8953727  -0.8312094  -0.838552   -0.91987455\n",
      " -0.5303243  -0.8281819   0.87587017 -0.90158534 -0.18772951  0.70585287\n",
      "  0.2912781   0.74036914 -0.49690083  0.8040923   0.9309167  -0.8735545\n",
      " -0.806684   -0.91712356 -0.8448523  -0.58211124  0.829489    0.94708955\n",
      "  0.8311447  -0.53361297  0.13105153 -0.94604623  0.43882918 -0.8684665\n",
      "  0.5103295  -0.6493558   0.9138197   0.16535339 -0.64820063  0.8913325\n",
      " -0.36183518  0.25495982  0.6055074   0.53351957 -0.83603483 -0.66191703\n",
      " -0.86585885  0.6863698  -0.96487945 -0.72079515  0.89815366  0.8699906\n",
      " -0.80058444 -0.6500794  -0.9335061  -0.8962399  -0.37147483  0.70242524\n",
      " -0.57642597  0.86299264 -0.7052836  -0.88053775  0.01935225 -0.7970295\n",
      " -0.3318924   0.834101   -0.9071597  -0.95026547 -0.69023114 -0.8042468\n",
      " -0.01780593  0.9020597   0.7794103  -0.94030994 -0.76224625  0.8937881\n",
      " -0.8562391  -0.9193633   0.9497463   0.8365552  -0.78003305 -0.72851205\n",
      "  0.77116066  0.195905    0.9122231   0.92266387  0.6880795   0.7922539\n",
      " -0.05338249 -0.9131653   0.9375039  -0.95779634  0.01214096  0.9272844\n",
      " -0.9442412  -0.22872029  0.8563921   0.7352157   0.80902797  0.5502266\n",
      "  0.9104239  -0.93138677 -0.5781712  -0.5777686  -0.87472296 -0.6208769\n",
      "  0.94456667  0.79234594]\n",
      "SMILES: C1CCCCC1 => Embedding: [ 0.8144415  -0.9232978  -0.43560207  0.18762605 -0.94399816  0.5951363\n",
      " -0.894508    0.01596865 -0.10704902 -0.94288874 -0.8976001  -0.5377212\n",
      "  0.5240205   0.9345504  -0.40052107 -0.43185264 -0.41844353 -0.21772392\n",
      " -0.9107803   0.9726113  -0.9387087   0.03372489 -0.96791184  0.35312638\n",
      " -0.9452912   0.5597797   0.9443448  -0.9382613  -0.36872718 -0.94051695\n",
      "  0.8708118  -0.87741435 -0.5895838  -0.9093246   0.53355163  0.8376715\n",
      "  0.82079905  0.03090073 -0.03939963 -0.5439823   0.927301    0.5222904\n",
      " -0.96572405 -0.9542671   0.8527627  -0.02528564  0.09840558  0.8257636\n",
      "  0.8901255  -0.10976298 -0.7524295  -0.9458277  -0.88712007 -0.7926259\n",
      " -0.6744599   0.40426916  0.8324357  -0.1432641  -0.7914536   0.52398765\n",
      "  0.81260115 -0.91163707 -0.8464166   0.2533241  -0.96178174 -0.2173929\n",
      " -0.31146523  0.0181782  -0.97562164 -0.4625743   0.7707427   0.4560536\n",
      "  0.16513005 -0.9359081  -0.8324862  -0.9133057   0.19244401  0.17459737\n",
      "  0.52485454  0.98667705 -0.80501306 -0.9600076   0.23659761 -0.9400747\n",
      " -0.89506334  0.94185066 -0.83177215 -0.9735782  -0.80065846 -0.58281815\n",
      "  0.55147105 -0.71296185  0.72263134 -0.94683486 -0.2935133   0.9408056\n",
      "  0.48333615 -0.6898797   0.9411837   0.76741755 -0.05983967 -0.40666127\n",
      "  0.31153962  0.7819398   0.85891676  0.19865099 -0.60682184  0.7427143\n",
      " -0.45627305 -0.8465306   0.9727112  -0.91039795 -0.5707865   0.9590094\n",
      " -0.9092445  -0.41993737  0.7777563   0.35725483  0.94737625  0.91756845\n",
      "  0.9033847  -0.92221385 -0.0758606   0.48521066  0.7430017  -0.73608005\n",
      "  0.90551025  0.89601934]\n"
     ]
    }
   ],
   "source": [
    "import numpy as np\n",
    "import tensorflow as tf\n",
    "from tensorflow.keras.models import Model\n",
    "from tensorflow.keras.layers import Input, LSTM, Dense, Embedding\n",
    "\n",
    "# Step 1: Prepare the SMILES data (this is just an example, you should use actual data)\n",
    "smiles_data = [\n",
    "    'CCO',    # Ethanol\n",
    "    'CCN',    # Ethylamine\n",
    "    'CCCC',   # Butane\n",
    "    'C1CCCCC1'  # Cyclohexane\n",
    "]\n",
    "\n",
    "# Tokenize SMILES (simple character-based tokenization)\n",
    "unique_chars = set(''.join(smiles_data))\n",
    "char_to_index = {char: idx+1 for idx, char in enumerate(unique_chars)}  # Start index from 1\n",
    "index_to_char = {idx+1: char for idx, char in enumerate(unique_chars)}\n",
    "\n",
    "max_smiles_len = max(len(smiles) for smiles in smiles_data)\n",
    "\n",
    "\n",
    "\n",
    "def smiles_to_sequence(smiles):\n",
    "    return [char_to_index[char] for char in smiles]\n",
    "\n",
    "def sequence_to_smiles(seq):\n",
    "    return ''.join([index_to_char[idx] for idx in seq if idx > 0])\n",
    "\n",
    "sequences = [smiles_to_sequence(smiles) for smiles in smiles_data]\n",
    "sequences = tf.keras.preprocessing.sequence.pad_sequences(sequences, maxlen=max_smiles_len, padding='post')\n",
    "\n",
    "# Step 2: Build the Seq2Seq model (Encoder-Decoder architecture)\n",
    "\n",
    "# Define model parameters\n",
    "embedding_dim = 50\n",
    "latent_dim = 128\n",
    "\n",
    "# Encoder\n",
    "encoder_inputs = Input(shape=(None,))\n",
    "x = Embedding(input_dim=len(unique_chars) + 1, output_dim=embedding_dim, mask_zero=True)(encoder_inputs)\n",
    "encoder_lstm = LSTM(latent_dim, return_state=True)\n",
    "_, state_h, state_c = encoder_lstm(x)\n",
    "encoder_states = [state_h, state_c]  # This represents the embedding\n",
    "\n",
    "# Decoder (with embedding)\n",
    "decoder_inputs = Input(shape=(None,))\n",
    "decoder_embedding = Embedding(input_dim=len(unique_chars) + 1, output_dim=embedding_dim, mask_zero=True)(decoder_inputs)\n",
    "decoder_lstm = LSTM(latent_dim, return_sequences=True, return_state=True)\n",
    "decoder_outputs, _, _ = decoder_lstm(decoder_embedding, initial_state=encoder_states)\n",
    "decoder_dense = Dense(len(unique_chars) + 1, activation='softmax')\n",
    "decoder_outputs = decoder_dense(decoder_outputs)\n",
    "\n",
    "# Define full Seq2Seq model for training\n",
    "seq2seq_model = Model([encoder_inputs, decoder_inputs], decoder_outputs)\n",
    "\n",
    "# Step 3: Compile and Train the model\n",
    "seq2seq_model.compile(optimizer='adam', loss='sparse_categorical_crossentropy')\n",
    "\n",
    "# Prepare target data for training (shifted sequence for decoder)\n",
    "target_data = np.zeros_like(sequences)  # For simplicity, we reuse sequences as target\n",
    "target_data[:, :-1] = sequences[:, 1:]  # Shift left\n",
    "\n",
    "# Train the model\n",
    "seq2seq_model.fit([sequences, sequences], np.expand_dims(target_data, -1), batch_size=32, epochs=100)\n",
    "\n",
    "# Step 4: Use the Encoder to Generate Embeddings\n",
    "encoder_model = Model(encoder_inputs, encoder_states)  # Create encoder model to extract embeddings\n",
    "\n",
    "# Get embeddings for each SMILES\n",
    "# This will return both hidden state and cell state; we use hidden state (state_h) as the embedding\n",
    "state_h, state_c = encoder_model.predict(sequences)\n",
    "\n",
    "# Output the embeddings (hidden state)\n",
    "for idx, smiles in enumerate(smiles_data):\n",
    "    print(f\"SMILES: {smiles} => Embedding: {state_h[idx]}\")\n"
   ]
  },
  {
   "cell_type": "code",
   "execution_count": null,
   "id": "bb7587b9",
   "metadata": {},
   "outputs": [],
   "source": []
  },
  {
   "cell_type": "code",
   "execution_count": 9,
   "id": "fd60d158",
   "metadata": {},
   "outputs": [
    {
     "ename": "ImportError",
     "evalue": "cannot import name 'remove_stopword_tokens' from 'gensim.parsing.preprocessing' (d:\\py\\Lib\\site-packages\\gensim\\parsing\\preprocessing.py)",
     "output_type": "error",
     "traceback": [
      "\u001b[1;31m---------------------------------------------------------------------------\u001b[0m",
      "\u001b[1;31mImportError\u001b[0m                               Traceback (most recent call last)",
      "Cell \u001b[1;32mIn[9], line 2\u001b[0m\n\u001b[0;32m      1\u001b[0m \u001b[38;5;28;01mimport\u001b[39;00m \u001b[38;5;21;01mre\u001b[39;00m\n\u001b[1;32m----> 2\u001b[0m \u001b[38;5;28;01mimport\u001b[39;00m \u001b[38;5;21;01mgensim\u001b[39;00m\n\u001b[0;32m      3\u001b[0m \u001b[38;5;28;01mimport\u001b[39;00m \u001b[38;5;21;01mnumpy\u001b[39;00m \u001b[38;5;28;01mas\u001b[39;00m \u001b[38;5;21;01mnp\u001b[39;00m\n\u001b[0;32m      4\u001b[0m \u001b[38;5;28;01mfrom\u001b[39;00m \u001b[38;5;21;01mgensim\u001b[39;00m\u001b[38;5;21;01m.\u001b[39;00m\u001b[38;5;21;01mmodels\u001b[39;00m \u001b[38;5;28;01mimport\u001b[39;00m Word2Vec\n",
      "File \u001b[1;32md:\\py\\Lib\\site-packages\\gensim\\__init__.py:11\u001b[0m\n\u001b[0;32m      7\u001b[0m __version__ \u001b[38;5;241m=\u001b[39m \u001b[38;5;124m'\u001b[39m\u001b[38;5;124m4.3.3\u001b[39m\u001b[38;5;124m'\u001b[39m\n\u001b[0;32m      9\u001b[0m \u001b[38;5;28;01mimport\u001b[39;00m \u001b[38;5;21;01mlogging\u001b[39;00m\n\u001b[1;32m---> 11\u001b[0m \u001b[38;5;28;01mfrom\u001b[39;00m \u001b[38;5;21;01mgensim\u001b[39;00m \u001b[38;5;28;01mimport\u001b[39;00m parsing, corpora, matutils, interfaces, models, similarities, utils  \u001b[38;5;66;03m# noqa:F401\u001b[39;00m\n\u001b[0;32m     14\u001b[0m logger \u001b[38;5;241m=\u001b[39m logging\u001b[38;5;241m.\u001b[39mgetLogger(\u001b[38;5;124m'\u001b[39m\u001b[38;5;124mgensim\u001b[39m\u001b[38;5;124m'\u001b[39m)\n\u001b[0;32m     15\u001b[0m \u001b[38;5;28;01mif\u001b[39;00m \u001b[38;5;129;01mnot\u001b[39;00m logger\u001b[38;5;241m.\u001b[39mhandlers:  \u001b[38;5;66;03m# To ensure reload() doesn't add another one\u001b[39;00m\n",
      "File \u001b[1;32md:\\py\\Lib\\site-packages\\gensim\\corpora\\__init__.py:14\u001b[0m\n\u001b[0;32m     12\u001b[0m \u001b[38;5;28;01mfrom\u001b[39;00m \u001b[38;5;21;01m.\u001b[39;00m\u001b[38;5;21;01mdictionary\u001b[39;00m \u001b[38;5;28;01mimport\u001b[39;00m Dictionary  \u001b[38;5;66;03m# noqa:F401\u001b[39;00m\n\u001b[0;32m     13\u001b[0m \u001b[38;5;28;01mfrom\u001b[39;00m \u001b[38;5;21;01m.\u001b[39;00m\u001b[38;5;21;01mhashdictionary\u001b[39;00m \u001b[38;5;28;01mimport\u001b[39;00m HashDictionary  \u001b[38;5;66;03m# noqa:F401\u001b[39;00m\n\u001b[1;32m---> 14\u001b[0m \u001b[38;5;28;01mfrom\u001b[39;00m \u001b[38;5;21;01m.\u001b[39;00m\u001b[38;5;21;01mwikicorpus\u001b[39;00m \u001b[38;5;28;01mimport\u001b[39;00m WikiCorpus  \u001b[38;5;66;03m# noqa:F401\u001b[39;00m\n\u001b[0;32m     15\u001b[0m \u001b[38;5;28;01mfrom\u001b[39;00m \u001b[38;5;21;01m.\u001b[39;00m\u001b[38;5;21;01mtextcorpus\u001b[39;00m \u001b[38;5;28;01mimport\u001b[39;00m TextCorpus, TextDirectoryCorpus  \u001b[38;5;66;03m# noqa:F401\u001b[39;00m\n\u001b[0;32m     16\u001b[0m \u001b[38;5;28;01mfrom\u001b[39;00m \u001b[38;5;21;01m.\u001b[39;00m\u001b[38;5;21;01mucicorpus\u001b[39;00m \u001b[38;5;28;01mimport\u001b[39;00m UciCorpus  \u001b[38;5;66;03m# noqa:F401\u001b[39;00m\n",
      "File \u001b[1;32md:\\py\\Lib\\site-packages\\gensim\\corpora\\wikicorpus.py:32\u001b[0m\n\u001b[0;32m     30\u001b[0m \u001b[38;5;66;03m# cannot import whole gensim.corpora, because that imports wikicorpus...\u001b[39;00m\n\u001b[0;32m     31\u001b[0m \u001b[38;5;28;01mfrom\u001b[39;00m \u001b[38;5;21;01mgensim\u001b[39;00m\u001b[38;5;21;01m.\u001b[39;00m\u001b[38;5;21;01mcorpora\u001b[39;00m\u001b[38;5;21;01m.\u001b[39;00m\u001b[38;5;21;01mdictionary\u001b[39;00m \u001b[38;5;28;01mimport\u001b[39;00m Dictionary\n\u001b[1;32m---> 32\u001b[0m \u001b[38;5;28;01mfrom\u001b[39;00m \u001b[38;5;21;01mgensim\u001b[39;00m\u001b[38;5;21;01m.\u001b[39;00m\u001b[38;5;21;01mcorpora\u001b[39;00m\u001b[38;5;21;01m.\u001b[39;00m\u001b[38;5;21;01mtextcorpus\u001b[39;00m \u001b[38;5;28;01mimport\u001b[39;00m TextCorpus\n\u001b[0;32m     35\u001b[0m logger \u001b[38;5;241m=\u001b[39m logging\u001b[38;5;241m.\u001b[39mgetLogger(\u001b[38;5;18m__name__\u001b[39m)\n\u001b[0;32m     37\u001b[0m ARTICLE_MIN_WORDS \u001b[38;5;241m=\u001b[39m \u001b[38;5;241m50\u001b[39m\n",
      "File \u001b[1;32md:\\py\\Lib\\site-packages\\gensim\\corpora\\textcorpus.py:46\u001b[0m\n\u001b[0;32m     44\u001b[0m \u001b[38;5;28;01mfrom\u001b[39;00m \u001b[38;5;21;01mgensim\u001b[39;00m \u001b[38;5;28;01mimport\u001b[39;00m interfaces, utils\n\u001b[0;32m     45\u001b[0m \u001b[38;5;28;01mfrom\u001b[39;00m \u001b[38;5;21;01mgensim\u001b[39;00m\u001b[38;5;21;01m.\u001b[39;00m\u001b[38;5;21;01mcorpora\u001b[39;00m\u001b[38;5;21;01m.\u001b[39;00m\u001b[38;5;21;01mdictionary\u001b[39;00m \u001b[38;5;28;01mimport\u001b[39;00m Dictionary\n\u001b[1;32m---> 46\u001b[0m \u001b[38;5;28;01mfrom\u001b[39;00m \u001b[38;5;21;01mgensim\u001b[39;00m\u001b[38;5;21;01m.\u001b[39;00m\u001b[38;5;21;01mparsing\u001b[39;00m\u001b[38;5;21;01m.\u001b[39;00m\u001b[38;5;21;01mpreprocessing\u001b[39;00m \u001b[38;5;28;01mimport\u001b[39;00m (\n\u001b[0;32m     47\u001b[0m     remove_stopword_tokens, remove_short_tokens,\n\u001b[0;32m     48\u001b[0m     lower_to_unicode, strip_multiple_whitespaces,\n\u001b[0;32m     49\u001b[0m )\n\u001b[0;32m     50\u001b[0m \u001b[38;5;28;01mfrom\u001b[39;00m \u001b[38;5;21;01mgensim\u001b[39;00m\u001b[38;5;21;01m.\u001b[39;00m\u001b[38;5;21;01mutils\u001b[39;00m \u001b[38;5;28;01mimport\u001b[39;00m deaccent, simple_tokenize\n\u001b[0;32m     52\u001b[0m \u001b[38;5;28;01mfrom\u001b[39;00m \u001b[38;5;21;01msmart_open\u001b[39;00m \u001b[38;5;28;01mimport\u001b[39;00m \u001b[38;5;28mopen\u001b[39m\n",
      "\u001b[1;31mImportError\u001b[0m: cannot import name 'remove_stopword_tokens' from 'gensim.parsing.preprocessing' (d:\\py\\Lib\\site-packages\\gensim\\parsing\\preprocessing.py)"
     ]
    }
   ],
   "source": [
    "import re\n",
    "import gensim\n",
    "import numpy as np\n",
    "from gensim.models import Word2Vec\n",
    "\n",
    "# Step 1: Prepare protein sequences (example sequences)\n",
    "protein_sequences = [\n",
    "    'MKTFFVLVVVVLATGVHSQC',  # Example protein sequence 1\n",
    "    'MKTVVVVVFLLLGGQHSQY',   # Example protein sequence 2\n",
    "    'LLVFLLTALLVLTLHHNQ',    # Example protein sequence 3\n",
    "]\n",
    "\n",
    "# Step 2: Function to split protein sequence into 3-mers\n",
    "def split_into_kmers(sequence, k=3):\n",
    "    \"\"\"Splits the protein sequence into overlapping k-mers (default k=3).\"\"\"\n",
    "    return [sequence[i:i+k] for i in range(len(sequence) - k + 1)]\n",
    "\n",
    "# Step 3: Create a dataset of 3-mers\n",
    "kmers_data = [split_into_kmers(seq) for seq in protein_sequences]\n",
    "print(\"3-mers dataset:\", kmers_data)\n",
    "\n",
    "# Step 4: Train Word2Vec model on the 3-mers (ProtVec equivalent)\n",
    "embedding_dim = 100  # Size of the embedding vector (can be adjusted)\n",
    "w2v_model = Word2Vec(sentences=kmers_data, vector_size=embedding_dim, window=5, min_count=1, sg=1, workers=4)\n",
    "\n",
    "# Step 5: Get embeddings for each protein sequence by averaging its k-mer embeddings\n",
    "def get_protein_embedding(protein_sequence, model):\n",
    "    \"\"\"Returns the average embedding of all 3-mers in the protein sequence.\"\"\"\n",
    "    kmers = split_into_kmers(protein_sequence)\n",
    "    kmers_embeddings = [model.wv[kmer] for kmer in kmers if kmer in model.wv]\n",
    "    \n",
    "    # Return the average of all k-mer embeddings\n",
    "    return np.mean(kmers_embeddings, axis=0) if kmers_embeddings else np.zeros(embedding_dim)\n",
    "\n",
    "# Step 6: Generate embeddings for the protein sequences\n",
    "protein_embeddings = [get_protein_embedding(seq, w2v_model) for seq in protein_sequences]\n",
    "\n",
    "# Step 7: Print out the generated embeddings\n",
    "for idx, embedding in enumerate(protein_embeddings):\n",
    "    print(f\"Protein Sequence {idx+1}: {protein_sequences[idx]}\")\n",
    "    print(f\"Embedding: {embedding}\\n\")\n"
   ]
  },
  {
   "cell_type": "code",
   "execution_count": 13,
   "id": "960ee3b9",
   "metadata": {},
   "outputs": [
    {
     "name": "stdout",
     "output_type": "stream",
     "text": [
      "Protein Sequence 1: MKTFFVLVVVVLATGVHSQC\n",
      "Embedding (first 10 dimensions): [0.46588696 0.67547724 0.50515842 0.48669527 0.59379862 0.43487227\n",
      " 0.44241561 0.538461   0.40023297 0.47516918]\n",
      "\n",
      "Protein Sequence 2: MKTVVVVVFLLLGGQHSQY\n",
      "Embedding (first 10 dimensions): [0.57825144 0.5397371  0.42658185 0.51531491 0.54489081 0.44989584\n",
      " 0.47959296 0.60198275 0.47731319 0.56039459]\n",
      "\n",
      "Protein Sequence 3: LLVFLLTALLVLTLHHNQ\n",
      "Embedding (first 10 dimensions): [0.41831001 0.50182568 0.55615048 0.44672272 0.55183828 0.54581417\n",
      " 0.57388218 0.54424408 0.57177749 0.6397882 ]\n",
      "\n"
     ]
    }
   ],
   "source": [
    "import numpy as np\n",
    "\n",
    "# Step 1: Prepare protein sequences (example sequences)\n",
    "protein_sequences = [\n",
    "    'MKTFFVLVVVVLATGVHSQC',  # Example protein sequence 1\n",
    "    'MKTVVVVVFLLLGGQHSQY',   # Example protein sequence 2\n",
    "    'LLVFLLTALLVLTLHHNQ',    # Example protein sequence 3\n",
    "]\n",
    "\n",
    "# Step 2: Define function to split protein sequence into 3-mers\n",
    "def split_into_kmers(sequence, k=3):\n",
    "    \"\"\"Splits the protein sequence into overlapping k-mers (default k=3).\"\"\"\n",
    "    return [sequence[i:i+k] for i in range(len(sequence) - k + 1)]\n",
    "\n",
    "# Step 3: Create a random embedding for each possible 3-mer\n",
    "def create_kmer_embedding_dict(k=3, embedding_dim=100):\n",
    "    \"\"\"Creates a dictionary where each possible 3-mer maps to a random embedding vector.\"\"\"\n",
    "    # Create a dictionary to store embeddings for all 3-mers\n",
    "    kmer_embedding_dict = {}\n",
    "    \n",
    "    # Generate all possible 3-mers from the 20 standard amino acids\n",
    "    amino_acids = 'ACDEFGHIKLMNPQRSTVWY'\n",
    "    \n",
    "    # Assign a random embedding vector to each unique 3-mer\n",
    "    for aa1 in amino_acids:\n",
    "        for aa2 in amino_acids:\n",
    "            for aa3 in amino_acids:\n",
    "                kmer = aa1 + aa2 + aa3\n",
    "                kmer_embedding_dict[kmer] = np.random.rand(embedding_dim)  # Random vector\n",
    "\n",
    "    return kmer_embedding_dict\n",
    "\n",
    "# Step 4: Generate embeddings for protein sequences\n",
    "def get_protein_embedding(protein_sequence, kmer_embedding_dict, embedding_dim=100):\n",
    "    \"\"\"Returns the average embedding of all 3-mers in the protein sequence.\"\"\"\n",
    "    kmers = split_into_kmers(protein_sequence)\n",
    "    kmer_embeddings = [kmer_embedding_dict[kmer] for kmer in kmers if kmer in kmer_embedding_dict]\n",
    "    \n",
    "    # Return the average of all k-mer embeddings\n",
    "    return np.mean(kmer_embeddings, axis=0) if kmer_embeddings else np.zeros(embedding_dim)\n",
    "\n",
    "# Step 5: Create the dictionary of 3-mers and their embeddings\n",
    "embedding_dim = 100  # Size of the embedding vector\n",
    "kmer_embedding_dict = create_kmer_embedding_dict(k=3, embedding_dim=embedding_dim)\n",
    "\n",
    "# Step 6: Generate embeddings for the protein sequences\n",
    "protein_embeddings = [get_protein_embedding(seq, kmer_embedding_dict, embedding_dim) for seq in protein_sequences]\n",
    "\n",
    "# Step 7: Print out the generated embeddings\n",
    "for idx, embedding in enumerate(protein_embeddings):\n",
    "    print(f\"Protein Sequence {idx+1}: {protein_sequences[idx]}\")\n",
    "    print(f\"Embedding (first 10 dimensions): {embedding[:10]}\\n\")  # Print first 10 dimensions for readability\n"
   ]
  },
  {
   "cell_type": "code",
   "execution_count": 14,
   "id": "c261a034",
   "metadata": {},
   "outputs": [
    {
     "name": "stdout",
     "output_type": "stream",
     "text": [
      "Drug-Drug Similarity Matrix (DD_Sim_sm):\n",
      "[[1.         0.75652147 0.73778581 0.74843261]\n",
      " [0.75652147 1.         0.7686823  0.79369025]\n",
      " [0.73778581 0.7686823  1.         0.7452096 ]\n",
      " [0.74843261 0.79369025 0.7452096  1.        ]]\n",
      "\n",
      "Protein-Protein Similarity Matrix (TT_Sim_sq):\n",
      "[[1.         0.79534834 0.71972991 0.7620591 ]\n",
      " [0.79534834 1.         0.77298135 0.78515287]\n",
      " [0.71972991 0.77298135 1.         0.79326099]\n",
      " [0.7620591  0.78515287 0.79326099 1.        ]]\n"
     ]
    }
   ],
   "source": [
    "import numpy as np\n",
    "from sklearn.metrics.pairwise import cosine_similarity\n",
    "\n",
    "# Step 1: Sample drug and protein embeddings (example embeddings)\n",
    "# Assuming we have embeddings for 4 drugs and 4 proteins\n",
    "drug_embeddings = np.random.rand(4, 100)  # 4 drugs, each with a 100-dimensional embedding\n",
    "protein_embeddings = np.random.rand(4, 100)  # 4 proteins, each with a 100-dimensional embedding\n",
    "\n",
    "# Step 2: Function to compute cosine similarity matrix\n",
    "def compute_cosine_similarity(embeddings):\n",
    "    \"\"\"\n",
    "    Computes the cosine similarity matrix for a set of embeddings.\n",
    "    :param embeddings: A 2D numpy array where each row is an embedding vector.\n",
    "    :return: A 2D numpy array representing the cosine similarity matrix.\n",
    "    \"\"\"\n",
    "    return cosine_similarity(embeddings)\n",
    "\n",
    "# Step 3: Calculate the drug-drug similarity matrix (DD_Sim_sm)\n",
    "DD_Sim_sm = compute_cosine_similarity(drug_embeddings)\n",
    "\n",
    "# Step 4: Calculate the target-target (protein-protein) similarity matrix (TT_Sim_sq)\n",
    "TT_Sim_sq = compute_cosine_similarity(protein_embeddings)\n",
    "\n",
    "# Step 5: Print the similarity matrices\n",
    "print(\"Drug-Drug Similarity Matrix (DD_Sim_sm):\")\n",
    "print(DD_Sim_sm)\n",
    "\n",
    "print(\"\\nProtein-Protein Similarity Matrix (TT_Sim_sq):\")\n",
    "print(TT_Sim_sq)\n"
   ]
  },
  {
   "cell_type": "code",
   "execution_count": 16,
   "id": "3ea0559e",
   "metadata": {},
   "outputs": [
    {
     "name": "stdout",
     "output_type": "stream",
     "text": [
      "Graph G Info:\n",
      "Number of nodes: 10\n",
      "Number of edges: 45\n",
      "\n",
      "Node types:\n",
      "Node: Drug_0, Type: drug\n",
      "Node: Drug_1, Type: drug\n",
      "Node: Drug_2, Type: drug\n",
      "Node: Drug_3, Type: drug\n",
      "Node: Drug_4, Type: drug\n",
      "Node: Target_0, Type: target\n",
      "Node: Target_1, Type: target\n",
      "Node: Target_2, Type: target\n",
      "Node: Target_3, Type: target\n",
      "Node: Target_4, Type: target\n",
      "\n",
      "Edge types:\n",
      "Edge: Drug_0 <-> Target_0, Type: D-T, Weight: 0.221696476774225\n",
      "Edge: Drug_0 <-> Target_1, Type: D-T, Weight: 0.5990627378504843\n",
      "Edge: Drug_0 <-> Target_2, Type: D-T, Weight: 0.8363414913652114\n",
      "Edge: Drug_0 <-> Target_3, Type: D-T, Weight: 0.8874096245721786\n",
      "Edge: Drug_0 <-> Target_4, Type: D-T, Weight: 0.8830565947551154\n",
      "Edge: Drug_0 <-> Drug_1, Type: D-D, Weight: 0.8077204658734083\n",
      "Edge: Drug_0 <-> Drug_2, Type: D-D, Weight: 0.7299048941189324\n",
      "Edge: Drug_0 <-> Drug_3, Type: D-D, Weight: 0.7254249627723174\n",
      "Edge: Drug_0 <-> Drug_4, Type: D-D, Weight: 0.7103033979879542\n",
      "Edge: Drug_1 <-> Target_0, Type: D-T, Weight: 0.409441644758471\n",
      "Edge: Drug_1 <-> Target_1, Type: D-T, Weight: 0.9730530296608313\n",
      "Edge: Drug_1 <-> Target_2, Type: D-T, Weight: 0.4668821958017574\n",
      "Edge: Drug_1 <-> Target_3, Type: D-T, Weight: 0.2081826686676722\n",
      "Edge: Drug_1 <-> Target_4, Type: D-T, Weight: 0.37643374422963194\n",
      "Edge: Drug_1 <-> Drug_2, Type: D-D, Weight: 0.7543139388210255\n",
      "Edge: Drug_1 <-> Drug_3, Type: D-D, Weight: 0.8183189761473744\n",
      "Edge: Drug_1 <-> Drug_4, Type: D-D, Weight: 0.7921788374066934\n",
      "Edge: Drug_2 <-> Target_0, Type: D-T, Weight: 0.87736159675035\n",
      "Edge: Drug_2 <-> Target_1, Type: D-T, Weight: 0.5911881855419251\n",
      "Edge: Drug_2 <-> Target_2, Type: D-T, Weight: 0.5679653716309524\n",
      "Edge: Drug_2 <-> Target_3, Type: D-T, Weight: 0.823809798462058\n",
      "Edge: Drug_2 <-> Target_4, Type: D-T, Weight: 0.20991629204421813\n",
      "Edge: Drug_2 <-> Drug_3, Type: D-D, Weight: 0.7466508202776985\n",
      "Edge: Drug_2 <-> Drug_4, Type: D-D, Weight: 0.7254254515559683\n",
      "Edge: Drug_3 <-> Target_0, Type: D-T, Weight: 0.49136961751014097\n",
      "Edge: Drug_3 <-> Target_1, Type: D-T, Weight: 0.839375665134087\n",
      "Edge: Drug_3 <-> Target_2, Type: D-T, Weight: 0.17422018655807625\n",
      "Edge: Drug_3 <-> Target_3, Type: D-T, Weight: 0.9778675065667751\n",
      "Edge: Drug_3 <-> Target_4, Type: D-T, Weight: 0.24982369680325966\n",
      "Edge: Drug_3 <-> Drug_4, Type: D-D, Weight: 0.7465232651430599\n",
      "Edge: Drug_4 <-> Target_0, Type: D-T, Weight: 0.8564646727480014\n",
      "Edge: Drug_4 <-> Target_1, Type: D-T, Weight: 0.5699985614344749\n",
      "Edge: Drug_4 <-> Target_2, Type: D-T, Weight: 0.40413534259944606\n",
      "Edge: Drug_4 <-> Target_3, Type: D-T, Weight: 0.0006268264513377142\n",
      "Edge: Drug_4 <-> Target_4, Type: D-T, Weight: 0.08023103698069922\n",
      "Edge: Target_0 <-> Target_1, Type: T-T, Weight: 0.7409124705978928\n",
      "Edge: Target_0 <-> Target_2, Type: T-T, Weight: 0.7610185914487508\n",
      "Edge: Target_0 <-> Target_3, Type: T-T, Weight: 0.6922928272362737\n",
      "Edge: Target_0 <-> Target_4, Type: T-T, Weight: 0.7371977298590324\n",
      "Edge: Target_1 <-> Target_2, Type: T-T, Weight: 0.7382114145127434\n",
      "Edge: Target_1 <-> Target_3, Type: T-T, Weight: 0.7429624891209771\n",
      "Edge: Target_1 <-> Target_4, Type: T-T, Weight: 0.7421198790037468\n",
      "Edge: Target_2 <-> Target_3, Type: T-T, Weight: 0.7743506579542957\n",
      "Edge: Target_2 <-> Target_4, Type: T-T, Weight: 0.7022221437150774\n",
      "Edge: Target_3 <-> Target_4, Type: T-T, Weight: 0.7887364407302684\n"
     ]
    },
    {
     "data": {
      "image/png": "[encoded data removed]",
      "text/plain": [
       "<Figure size 800x600 with 1 Axes>"
      ]
     },
     "metadata": {},
     "output_type": "display_data"
    }
   ],
   "source": [
    "import numpy as np\n",
    "import networkx as nx\n",
    "from sklearn.metrics.pairwise import cosine_similarity\n",
    "\n",
    "# Step 1: Sample embedding matrices for drugs and proteins (targets)\n",
    "# Let's create random embedding vectors for 5 drugs and 5 targets as a sample.\n",
    "drug_embeddings = np.random.rand(5, 100)  # 5 drugs, 100-dimensional embeddings\n",
    "target_embeddings = np.random.rand(5, 100)  # 5 targets, 100-dimensional embeddings\n",
    "\n",
    "# Step 2: Compute Cosine Similarity for Drugs and Targets\n",
    "DD_Sim = cosine_similarity(drug_embeddings)\n",
    "TT_Sim = cosine_similarity(target_embeddings)\n",
    "\n",
    "# Step 3: Apply filtering thresholds to drug-drug and target-target similarities\n",
    "drug_similarity_threshold = 0.3\n",
    "target_similarity_threshold = 0.04\n",
    "\n",
    "# Filter similarity matrices\n",
    "DD_Sim_filtered = np.where(DD_Sim > drug_similarity_threshold, DD_Sim, 0)\n",
    "TT_Sim_filtered = np.where(TT_Sim > target_similarity_threshold, TT_Sim, 0)\n",
    "\n",
    "# Step 4: Create the heterogeneous graph G(V, E) with drugs, targets, and similarities\n",
    "G = nx.Graph()\n",
    "\n",
    "# Step 5: Add drug and target nodes\n",
    "for i in range(drug_embeddings.shape[0]):\n",
    "    G.add_node(f'Drug_{i}', type='drug')\n",
    "\n",
    "for j in range(target_embeddings.shape[0]):\n",
    "    G.add_node(f'Target_{j}', type='target')\n",
    "\n",
    "# Step 6: Add edges between drugs and targets (D-T edges) with random binding strengths\n",
    "# Let's simulate random drug-target binding affinity values for each drug-target pair\n",
    "binding_affinities = np.random.rand(drug_embeddings.shape[0], target_embeddings.shape[0])\n",
    "\n",
    "for i in range(drug_embeddings.shape[0]):\n",
    "    for j in range(target_embeddings.shape[0]):\n",
    "        G.add_edge(f'Drug_{i}', f'Target_{j}', weight=binding_affinities[i, j], type='D-T')\n",
    "\n",
    "# Step 7: Add drug-drug edges (D-D edges) based on filtered drug similarity\n",
    "for i in range(DD_Sim_filtered.shape[0]):\n",
    "    for j in range(i+1, DD_Sim_filtered.shape[1]):\n",
    "        if DD_Sim_filtered[i, j] > 0:\n",
    "            G.add_edge(f'Drug_{i}', f'Drug_{j}', weight=DD_Sim_filtered[i, j], type='D-D')\n",
    "\n",
    "# Step 8: Add target-target edges (T-T edges) based on filtered target similarity\n",
    "for i in range(TT_Sim_filtered.shape[0]):\n",
    "    for j in range(i+1, TT_Sim_filtered.shape[1]):\n",
    "        if TT_Sim_filtered[i, j] > 0:\n",
    "            G.add_edge(f'Target_{i}', f'Target_{j}', weight=TT_Sim_filtered[i, j], type='T-T')\n",
    "\n",
    "# Step 9: Output the graph info (corrected to avoid deprecated nx.info())\n",
    "print(\"Graph G Info:\")\n",
    "print(f\"Number of nodes: {G.number_of_nodes()}\")\n",
    "print(f\"Number of edges: {G.number_of_edges()}\")\n",
    "\n",
    "# Print some node and edge attributes\n",
    "print(\"\\nNode types:\")\n",
    "for node in G.nodes(data=True):\n",
    "    print(f\"Node: {node[0]}, Type: {node[1]['type']}\")\n",
    "\n",
    "print(\"\\nEdge types:\")\n",
    "for edge in G.edges(data=True):\n",
    "    print(f\"Edge: {edge[0]} <-> {edge[1]}, Type: {edge[2]['type']}, Weight: {edge[2]['weight']}\")\n",
    "\n",
    "# Step 10: Visualize the heterogeneous graph (optional)\n",
    "import matplotlib.pyplot as plt\n",
    "\n",
    "# Set node colors: red for drugs, blue for targets\n",
    "node_colors = ['red' if G.nodes[node]['type'] == 'drug' else 'blue' for node in G.nodes()]\n",
    "\n",
    "plt.figure(figsize=(8, 6))\n",
    "nx.draw(G, with_labels=True, node_color=node_colors, node_size=500, font_size=10, font_color='white')\n",
    "plt.title(\"Heterogeneous Graph: Drug-Target-Drug & Target-Target Similarity\")\n",
    "plt.show()\n"
   ]
  },
  {
   "cell_type": "code",
   "execution_count": 17,
   "id": "dc3de0a9",
   "metadata": {},
   "outputs": [
    {
     "name": "stdout",
     "output_type": "stream",
     "text": [
      "Graph G Info:\n",
      "Number of nodes: 6\n",
      "Number of edges: 15\n",
      "\n",
      "Node types:\n",
      "Node: Drug_1, Type: drug\n",
      "Node: Drug_2, Type: drug\n",
      "Node: Drug_3, Type: drug\n",
      "Node: Target_1, Type: target\n",
      "Node: Target_2, Type: target\n",
      "Node: Target_3, Type: target\n",
      "\n",
      "Edge types:\n",
      "Edge: Drug_1 <-> Drug_2, Type: D-D, Weight: 0.8\n",
      "Edge: Drug_1 <-> Drug_3, Type: D-D, Weight: 0.2\n",
      "Edge: Drug_1 <-> Target_1, Type: D-T, Weight: 0.9\n",
      "Edge: Drug_1 <-> Target_2, Type: D-T, Weight: 0.3\n",
      "Edge: Drug_1 <-> Target_3, Type: D-T, Weight: 0.1\n",
      "Edge: Drug_2 <-> Drug_3, Type: D-D, Weight: 0.5\n",
      "Edge: Drug_2 <-> Target_1, Type: D-T, Weight: 0.4\n",
      "Edge: Drug_2 <-> Target_2, Type: D-T, Weight: 0.8\n",
      "Edge: Drug_2 <-> Target_3, Type: D-T, Weight: 0.7\n",
      "Edge: Drug_3 <-> Target_1, Type: D-T, Weight: 0.2\n",
      "Edge: Drug_3 <-> Target_2, Type: D-T, Weight: 0.6\n",
      "Edge: Drug_3 <-> Target_3, Type: D-T, Weight: 0.9\n",
      "Edge: Target_1 <-> Target_2, Type: T-T, Weight: 0.6\n",
      "Edge: Target_1 <-> Target_3, Type: T-T, Weight: 0.3\n",
      "Edge: Target_2 <-> Target_3, Type: T-T, Weight: 0.4\n"
     ]
    },
    {
     "data": {
      "image/png": "[encoded data removed]",
      "text/plain": [
       "<Figure size 800x600 with 1 Axes>"
      ]
     },
     "metadata": {},
     "output_type": "display_data"
    }
   ],
   "source": [
    "import numpy as np\n",
    "import networkx as nx\n",
    "import matplotlib.pyplot as plt\n",
    "\n",
    "# Step 1: Create sample drug-drug similarity matrix (3x3)\n",
    "DD_Sim = np.array([\n",
    "    [1.0, 0.8, 0.2],  # Drug 1\n",
    "    [0.8, 1.0, 0.5],  # Drug 2\n",
    "    [0.2, 0.5, 1.0]   # Drug 3\n",
    "])\n",
    "\n",
    "# Step 2: Create sample drug-target binding affinity matrix (3x3)\n",
    "DT_Binding_Affinity = np.array([\n",
    "    [0.9, 0.3, 0.1],  # Drug 1 affinities to Target 1, 2, 3\n",
    "    [0.4, 0.8, 0.7],  # Drug 2 affinities to Target 1, 2, 3\n",
    "    [0.2, 0.6, 0.9]   # Drug 3 affinities to Target 1, 2, 3\n",
    "])\n",
    "\n",
    "# Step 3: Create sample target-target binding affinity matrix (3x3)\n",
    "TTBA_Sim = np.array([\n",
    "    [1.0, 0.6, 0.3],  # Target 1\n",
    "    [0.6, 1.0, 0.4],  # Target 2\n",
    "    [0.3, 0.4, 1.0]   # Target 3\n",
    "])\n",
    "\n",
    "# Step 4: Create the heterogeneous graph G(V, E)\n",
    "G = nx.Graph()\n",
    "\n",
    "# Step 5: Add drug nodes\n",
    "for i in range(DD_Sim.shape[0]):\n",
    "    G.add_node(f'Drug_{i+1}', type='drug')\n",
    "\n",
    "# Step 6: Add target nodes\n",
    "for j in range(TTBA_Sim.shape[0]):\n",
    "    G.add_node(f'Target_{j+1}', type='target')\n",
    "\n",
    "# Step 7: Add drug-drug edges (D-D edges) based on DD_Sim\n",
    "for i in range(DD_Sim.shape[0]):\n",
    "    for j in range(i + 1, DD_Sim.shape[1]):\n",
    "        if DD_Sim[i, j] > 0:  # Only add edge if similarity > 0\n",
    "            G.add_edge(f'Drug_{i+1}', f'Drug_{j+1}', weight=DD_Sim[i, j], type='D-D')\n",
    "\n",
    "# Step 8: Add drug-target edges (D-T edges) based on DT_Binding_Affinity\n",
    "for i in range(DT_Binding_Affinity.shape[0]):\n",
    "    for j in range(DT_Binding_Affinity.shape[1]):\n",
    "        if DT_Binding_Affinity[i, j] > 0:  # Only add edge if binding affinity > 0\n",
    "            G.add_edge(f'Drug_{i+1}', f'Target_{j+1}', weight=DT_Binding_Affinity[i, j], type='D-T')\n",
    "\n",
    "# Step 9: Add target-target edges (T-T edges) based on TTBA_Sim\n",
    "for i in range(TTBA_Sim.shape[0]):\n",
    "    for j in range(i + 1, TTBA_Sim.shape[1]):\n",
    "        if TTBA_Sim[i, j] > 0:  # Only add edge if similarity > 0\n",
    "            G.add_edge(f'Target_{i+1}', f'Target_{j+1}', weight=TTBA_Sim[i, j], type='T-T')\n",
    "\n",
    "# Step 10: Output the graph info\n",
    "print(\"Graph G Info:\")\n",
    "print(f\"Number of nodes: {G.number_of_nodes()}\")\n",
    "print(f\"Number of edges: {G.number_of_edges()}\")\n",
    "\n",
    "# Print node and edge attributes\n",
    "print(\"\\nNode types:\")\n",
    "for node in G.nodes(data=True):\n",
    "    print(f\"Node: {node[0]}, Type: {node[1]['type']}\")\n",
    "\n",
    "print(\"\\nEdge types:\")\n",
    "for edge in G.edges(data=True):\n",
    "    print(f\"Edge: {edge[0]} <-> {edge[1]}, Type: {edge[2]['type']}, Weight: {edge[2]['weight']}\")\n",
    "\n",
    "# Step 11: Visualize the heterogeneous graph (optional)\n",
    "node_colors = ['red' if G.nodes[node]['type'] == 'drug' else 'blue' for node in G.nodes()]\n",
    "plt.figure(figsize=(8, 6))\n",
    "nx.draw(G, with_labels=True, node_color=node_colors, node_size=500, font_size=10, font_color='white')\n",
    "plt.title(\"Heterogeneous Graph: Drug-Target & Target-Target Similarity\")\n",
    "plt.show()\n"
   ]
  },
  {
   "cell_type": "markdown",
   "metadata": {},
   "source": [
    "##### ----------------------------------- END of the CODE -----------------------------------"
   ]
  }
 ],
 "metadata": {
  "kernelspec": {
   "display_name": "Python 3",
   "language": "python",
   "name": "python3"
  },
  "language_info": {
   "codemirror_mode": {
    "name": "ipython",
    "version": 3
   },
   "file_extension": ".py",
   "mimetype": "text/x-python",
   "name": "python",
   "nbconvert_exporter": "python",
   "pygments_lexer": "ipython3",
   "version": "3.11.4"
  }
 },
 "nbformat": 4,
 "nbformat_minor": 5
}
